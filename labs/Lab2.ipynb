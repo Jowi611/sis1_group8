{
 "cells": [
  {
   "cell_type": "markdown",
   "metadata": {
    "id": "7FEkSsqqPhe2"
   },
   "source": [
    "### **Lab 2: Introduction to Complex Exponentials**\n",
    "\n",
    "The goal of this laboratory is to gain familiarity with complex numbers and their use in representing sinusoidal signals as complex exponentials.\n",
    "\n",
    "**Complex Numbers in Python**\n",
    "\n",
    "\n",
    "Python can be used to compute complex-valued formulas and also to display the results as a vector or “phasor” diagrams.\n",
    "\n",
    "Here are some of numpy package complex number functions (remember to import package):\n",
    "\n",
    "*conj ()*       Complex conjugate\n",
    "\n",
    "*abs ()*        Magnitude\n",
    "\n",
    "*angle ()*      Angle (or phase) in radians\n",
    "\n",
    "*real ()*       Real part\n",
    "\n",
    "*imag ()*       Imaginary part\n",
    "*j *        pre-defined as <math>&radic;-1</math>\n",
    "\n",
    "*x = 3 + 4j*    j sufix defines imaginary constant\n",
    "\n",
    "exp(1j<math>*</math>theta)  Function for the complex exponential\n",
    "\n",
    "Each of these functions takes a vector (or matrix) as its input argument and operates on each element of the vector.\n",
    "\n",
    "To display a complex number as a point in the complex plane you can directly use the provided function `plot_complex`. It can take a single number or a list of complex numbers as input. For instance, to display the complex number 2+1j:"
   ]
  },
  {
   "cell_type": "code",
   "execution_count": 13,
   "metadata": {
    "colab": {
     "base_uri": "https://localhost:8080/"
    },
    "executionInfo": {
     "elapsed": 3415,
     "status": "ok",
     "timestamp": 1702317970077,
     "user": {
      "displayName": "PEDRO RAMONEDA FRANCO",
      "userId": "10653804143244385715"
     },
     "user_tz": -60
    },
    "id": "uvmioytcPgyZ",
    "outputId": "1fce312e-20b9-4609-df57-1a92ba465e41"
   },
   "outputs": [],
   "source": [
    "import numpy as np\n",
    "from IPython.display import Audio\n",
    "\n",
    "from util import load_audio, save_audio, plot_signals, plot_complex"
   ]
  },
  {
   "cell_type": "code",
   "execution_count": 2,
   "metadata": {
    "colab": {
     "base_uri": "https://localhost:8080/",
     "height": 542
    },
    "executionInfo": {
     "elapsed": 17,
     "status": "ok",
     "timestamp": 1702317970078,
     "user": {
      "displayName": "PEDRO RAMONEDA FRANCO",
      "userId": "10653804143244385715"
     },
     "user_tz": -60
    },
    "id": "t_Yo8e9yPvT6",
    "outputId": "2c45e158-029d-4451-b750-96607dd5e655"
   },
   "outputs": [
    {
     "data": {
      "application/vnd.plotly.v1+json": {
       "config": {
        "plotlyServerURL": "https://plot.ly"
       },
       "data": [
        {
         "line": {
          "color": "rgb(150,150,150)",
          "dash": "dash",
          "shape": "linear"
         },
         "mode": "lines",
         "name": "unit circle",
         "type": "scatter",
         "x": {
          "bdata": "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",
          "dtype": "f8"
         },
         "y": {
          "bdata": "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",
          "dtype": "f8"
         }
        },
        {
         "marker": {
          "color": "#1f77b4"
         },
         "mode": "markers",
         "name": "z_0",
         "type": "scatter",
         "x": [
          2
         ],
         "y": [
          1
         ]
        }
       ],
       "layout": {
        "annotations": [
         {
          "arrowcolor": "#1f77b4",
          "arrowhead": 3,
          "arrowwidth": 1.5,
          "ax": 0,
          "axref": "x",
          "ay": 0,
          "ayref": "y",
          "showarrow": true,
          "text": "",
          "x": 2,
          "y": 1
         }
        ],
        "template": {
         "data": {
          "bar": [
           {
            "error_x": {
             "color": "#2a3f5f"
            },
            "error_y": {
             "color": "#2a3f5f"
            },
            "marker": {
             "line": {
              "color": "#E5ECF6",
              "width": 0.5
             },
             "pattern": {
              "fillmode": "overlay",
              "size": 10,
              "solidity": 0.2
             }
            },
            "type": "bar"
           }
          ],
          "barpolar": [
           {
            "marker": {
             "line": {
              "color": "#E5ECF6",
              "width": 0.5
             },
             "pattern": {
              "fillmode": "overlay",
              "size": 10,
              "solidity": 0.2
             }
            },
            "type": "barpolar"
           }
          ],
          "carpet": [
           {
            "aaxis": {
             "endlinecolor": "#2a3f5f",
             "gridcolor": "white",
             "linecolor": "white",
             "minorgridcolor": "white",
             "startlinecolor": "#2a3f5f"
            },
            "baxis": {
             "endlinecolor": "#2a3f5f",
             "gridcolor": "white",
             "linecolor": "white",
             "minorgridcolor": "white",
             "startlinecolor": "#2a3f5f"
            },
            "type": "carpet"
           }
          ],
          "choropleth": [
           {
            "colorbar": {
             "outlinewidth": 0,
             "ticks": ""
            },
            "type": "choropleth"
           }
          ],
          "contour": [
           {
            "colorbar": {
             "outlinewidth": 0,
             "ticks": ""
            },
            "colorscale": [
             [
              0,
              "#0d0887"
             ],
             [
              0.1111111111111111,
              "#46039f"
             ],
             [
              0.2222222222222222,
              "#7201a8"
             ],
             [
              0.3333333333333333,
              "#9c179e"
             ],
             [
              0.4444444444444444,
              "#bd3786"
             ],
             [
              0.5555555555555556,
              "#d8576b"
             ],
             [
              0.6666666666666666,
              "#ed7953"
             ],
             [
              0.7777777777777778,
              "#fb9f3a"
             ],
             [
              0.8888888888888888,
              "#fdca26"
             ],
             [
              1,
              "#f0f921"
             ]
            ],
            "type": "contour"
           }
          ],
          "contourcarpet": [
           {
            "colorbar": {
             "outlinewidth": 0,
             "ticks": ""
            },
            "type": "contourcarpet"
           }
          ],
          "heatmap": [
           {
            "colorbar": {
             "outlinewidth": 0,
             "ticks": ""
            },
            "colorscale": [
             [
              0,
              "#0d0887"
             ],
             [
              0.1111111111111111,
              "#46039f"
             ],
             [
              0.2222222222222222,
              "#7201a8"
             ],
             [
              0.3333333333333333,
              "#9c179e"
             ],
             [
              0.4444444444444444,
              "#bd3786"
             ],
             [
              0.5555555555555556,
              "#d8576b"
             ],
             [
              0.6666666666666666,
              "#ed7953"
             ],
             [
              0.7777777777777778,
              "#fb9f3a"
             ],
             [
              0.8888888888888888,
              "#fdca26"
             ],
             [
              1,
              "#f0f921"
             ]
            ],
            "type": "heatmap"
           }
          ],
          "histogram": [
           {
            "marker": {
             "pattern": {
              "fillmode": "overlay",
              "size": 10,
              "solidity": 0.2
             }
            },
            "type": "histogram"
           }
          ],
          "histogram2d": [
           {
            "colorbar": {
             "outlinewidth": 0,
             "ticks": ""
            },
            "colorscale": [
             [
              0,
              "#0d0887"
             ],
             [
              0.1111111111111111,
              "#46039f"
             ],
             [
              0.2222222222222222,
              "#7201a8"
             ],
             [
              0.3333333333333333,
              "#9c179e"
             ],
             [
              0.4444444444444444,
              "#bd3786"
             ],
             [
              0.5555555555555556,
              "#d8576b"
             ],
             [
              0.6666666666666666,
              "#ed7953"
             ],
             [
              0.7777777777777778,
              "#fb9f3a"
             ],
             [
              0.8888888888888888,
              "#fdca26"
             ],
             [
              1,
              "#f0f921"
             ]
            ],
            "type": "histogram2d"
           }
          ],
          "histogram2dcontour": [
           {
            "colorbar": {
             "outlinewidth": 0,
             "ticks": ""
            },
            "colorscale": [
             [
              0,
              "#0d0887"
             ],
             [
              0.1111111111111111,
              "#46039f"
             ],
             [
              0.2222222222222222,
              "#7201a8"
             ],
             [
              0.3333333333333333,
              "#9c179e"
             ],
             [
              0.4444444444444444,
              "#bd3786"
             ],
             [
              0.5555555555555556,
              "#d8576b"
             ],
             [
              0.6666666666666666,
              "#ed7953"
             ],
             [
              0.7777777777777778,
              "#fb9f3a"
             ],
             [
              0.8888888888888888,
              "#fdca26"
             ],
             [
              1,
              "#f0f921"
             ]
            ],
            "type": "histogram2dcontour"
           }
          ],
          "mesh3d": [
           {
            "colorbar": {
             "outlinewidth": 0,
             "ticks": ""
            },
            "type": "mesh3d"
           }
          ],
          "parcoords": [
           {
            "line": {
             "colorbar": {
              "outlinewidth": 0,
              "ticks": ""
             }
            },
            "type": "parcoords"
           }
          ],
          "pie": [
           {
            "automargin": true,
            "type": "pie"
           }
          ],
          "scatter": [
           {
            "fillpattern": {
             "fillmode": "overlay",
             "size": 10,
             "solidity": 0.2
            },
            "type": "scatter"
           }
          ],
          "scatter3d": [
           {
            "line": {
             "colorbar": {
              "outlinewidth": 0,
              "ticks": ""
             }
            },
            "marker": {
             "colorbar": {
              "outlinewidth": 0,
              "ticks": ""
             }
            },
            "type": "scatter3d"
           }
          ],
          "scattercarpet": [
           {
            "marker": {
             "colorbar": {
              "outlinewidth": 0,
              "ticks": ""
             }
            },
            "type": "scattercarpet"
           }
          ],
          "scattergeo": [
           {
            "marker": {
             "colorbar": {
              "outlinewidth": 0,
              "ticks": ""
             }
            },
            "type": "scattergeo"
           }
          ],
          "scattergl": [
           {
            "marker": {
             "colorbar": {
              "outlinewidth": 0,
              "ticks": ""
             }
            },
            "type": "scattergl"
           }
          ],
          "scattermap": [
           {
            "marker": {
             "colorbar": {
              "outlinewidth": 0,
              "ticks": ""
             }
            },
            "type": "scattermap"
           }
          ],
          "scattermapbox": [
           {
            "marker": {
             "colorbar": {
              "outlinewidth": 0,
              "ticks": ""
             }
            },
            "type": "scattermapbox"
           }
          ],
          "scatterpolar": [
           {
            "marker": {
             "colorbar": {
              "outlinewidth": 0,
              "ticks": ""
             }
            },
            "type": "scatterpolar"
           }
          ],
          "scatterpolargl": [
           {
            "marker": {
             "colorbar": {
              "outlinewidth": 0,
              "ticks": ""
             }
            },
            "type": "scatterpolargl"
           }
          ],
          "scatterternary": [
           {
            "marker": {
             "colorbar": {
              "outlinewidth": 0,
              "ticks": ""
             }
            },
            "type": "scatterternary"
           }
          ],
          "surface": [
           {
            "colorbar": {
             "outlinewidth": 0,
             "ticks": ""
            },
            "colorscale": [
             [
              0,
              "#0d0887"
             ],
             [
              0.1111111111111111,
              "#46039f"
             ],
             [
              0.2222222222222222,
              "#7201a8"
             ],
             [
              0.3333333333333333,
              "#9c179e"
             ],
             [
              0.4444444444444444,
              "#bd3786"
             ],
             [
              0.5555555555555556,
              "#d8576b"
             ],
             [
              0.6666666666666666,
              "#ed7953"
             ],
             [
              0.7777777777777778,
              "#fb9f3a"
             ],
             [
              0.8888888888888888,
              "#fdca26"
             ],
             [
              1,
              "#f0f921"
             ]
            ],
            "type": "surface"
           }
          ],
          "table": [
           {
            "cells": {
             "fill": {
              "color": "#EBF0F8"
             },
             "line": {
              "color": "white"
             }
            },
            "header": {
             "fill": {
              "color": "#C8D4E3"
             },
             "line": {
              "color": "white"
             }
            },
            "type": "table"
           }
          ]
         },
         "layout": {
          "annotationdefaults": {
           "arrowcolor": "#2a3f5f",
           "arrowhead": 0,
           "arrowwidth": 1
          },
          "autotypenumbers": "strict",
          "coloraxis": {
           "colorbar": {
            "outlinewidth": 0,
            "ticks": ""
           }
          },
          "colorscale": {
           "diverging": [
            [
             0,
             "#8e0152"
            ],
            [
             0.1,
             "#c51b7d"
            ],
            [
             0.2,
             "#de77ae"
            ],
            [
             0.3,
             "#f1b6da"
            ],
            [
             0.4,
             "#fde0ef"
            ],
            [
             0.5,
             "#f7f7f7"
            ],
            [
             0.6,
             "#e6f5d0"
            ],
            [
             0.7,
             "#b8e186"
            ],
            [
             0.8,
             "#7fbc41"
            ],
            [
             0.9,
             "#4d9221"
            ],
            [
             1,
             "#276419"
            ]
           ],
           "sequential": [
            [
             0,
             "#0d0887"
            ],
            [
             0.1111111111111111,
             "#46039f"
            ],
            [
             0.2222222222222222,
             "#7201a8"
            ],
            [
             0.3333333333333333,
             "#9c179e"
            ],
            [
             0.4444444444444444,
             "#bd3786"
            ],
            [
             0.5555555555555556,
             "#d8576b"
            ],
            [
             0.6666666666666666,
             "#ed7953"
            ],
            [
             0.7777777777777778,
             "#fb9f3a"
            ],
            [
             0.8888888888888888,
             "#fdca26"
            ],
            [
             1,
             "#f0f921"
            ]
           ],
           "sequentialminus": [
            [
             0,
             "#0d0887"
            ],
            [
             0.1111111111111111,
             "#46039f"
            ],
            [
             0.2222222222222222,
             "#7201a8"
            ],
            [
             0.3333333333333333,
             "#9c179e"
            ],
            [
             0.4444444444444444,
             "#bd3786"
            ],
            [
             0.5555555555555556,
             "#d8576b"
            ],
            [
             0.6666666666666666,
             "#ed7953"
            ],
            [
             0.7777777777777778,
             "#fb9f3a"
            ],
            [
             0.8888888888888888,
             "#fdca26"
            ],
            [
             1,
             "#f0f921"
            ]
           ]
          },
          "colorway": [
           "#636efa",
           "#EF553B",
           "#00cc96",
           "#ab63fa",
           "#FFA15A",
           "#19d3f3",
           "#FF6692",
           "#B6E880",
           "#FF97FF",
           "#FECB52"
          ],
          "font": {
           "color": "#2a3f5f"
          },
          "geo": {
           "bgcolor": "white",
           "lakecolor": "white",
           "landcolor": "#E5ECF6",
           "showlakes": true,
           "showland": true,
           "subunitcolor": "white"
          },
          "hoverlabel": {
           "align": "left"
          },
          "hovermode": "closest",
          "mapbox": {
           "style": "light"
          },
          "paper_bgcolor": "white",
          "plot_bgcolor": "#E5ECF6",
          "polar": {
           "angularaxis": {
            "gridcolor": "white",
            "linecolor": "white",
            "ticks": ""
           },
           "bgcolor": "#E5ECF6",
           "radialaxis": {
            "gridcolor": "white",
            "linecolor": "white",
            "ticks": ""
           }
          },
          "scene": {
           "xaxis": {
            "backgroundcolor": "#E5ECF6",
            "gridcolor": "white",
            "gridwidth": 2,
            "linecolor": "white",
            "showbackground": true,
            "ticks": "",
            "zerolinecolor": "white"
           },
           "yaxis": {
            "backgroundcolor": "#E5ECF6",
            "gridcolor": "white",
            "gridwidth": 2,
            "linecolor": "white",
            "showbackground": true,
            "ticks": "",
            "zerolinecolor": "white"
           },
           "zaxis": {
            "backgroundcolor": "#E5ECF6",
            "gridcolor": "white",
            "gridwidth": 2,
            "linecolor": "white",
            "showbackground": true,
            "ticks": "",
            "zerolinecolor": "white"
           }
          },
          "shapedefaults": {
           "line": {
            "color": "#2a3f5f"
           }
          },
          "ternary": {
           "aaxis": {
            "gridcolor": "white",
            "linecolor": "white",
            "ticks": ""
           },
           "baxis": {
            "gridcolor": "white",
            "linecolor": "white",
            "ticks": ""
           },
           "bgcolor": "#E5ECF6",
           "caxis": {
            "gridcolor": "white",
            "linecolor": "white",
            "ticks": ""
           }
          },
          "title": {
           "x": 0.05
          },
          "xaxis": {
           "automargin": true,
           "gridcolor": "white",
           "linecolor": "white",
           "ticks": "",
           "title": {
            "standoff": 15
           },
           "zerolinecolor": "white",
           "zerolinewidth": 2
          },
          "yaxis": {
           "automargin": true,
           "gridcolor": "white",
           "linecolor": "white",
           "ticks": "",
           "title": {
            "standoff": 15
           },
           "zerolinecolor": "white",
           "zerolinewidth": 2
          }
         }
        },
        "xaxis": {
         "title": {
          "text": "Real"
         }
        },
        "yaxis": {
         "scaleanchor": "x",
         "scaleratio": 1,
         "title": {
          "text": "Imaginary"
         }
        }
       }
      }
     },
     "metadata": {},
     "output_type": "display_data"
    }
   ],
   "source": [
    "z = 2 + 1j\n",
    "plot_complex(z)"
   ]
  },
  {
   "cell_type": "markdown",
   "metadata": {
    "id": "spPME9dPQcnu"
   },
   "source": [
    "And for displaying several complex numbers:"
   ]
  },
  {
   "cell_type": "code",
   "execution_count": 3,
   "metadata": {
    "colab": {
     "base_uri": "https://localhost:8080/",
     "height": 542
    },
    "executionInfo": {
     "elapsed": 14,
     "status": "ok",
     "timestamp": 1702317970078,
     "user": {
      "displayName": "PEDRO RAMONEDA FRANCO",
      "userId": "10653804143244385715"
     },
     "user_tz": -60
    },
    "id": "kCCRfQrhQhGU",
    "outputId": "dc3f16fe-5ec1-402e-eeab-1d019fcdbce6"
   },
   "outputs": [
    {
     "data": {
      "application/vnd.plotly.v1+json": {
       "config": {
        "plotlyServerURL": "https://plot.ly"
       },
       "data": [
        {
         "line": {
          "color": "rgb(150,150,150)",
          "dash": "dash",
          "shape": "linear"
         },
         "mode": "lines",
         "name": "unit circle",
         "type": "scatter",
         "x": {
          "bdata": "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",
          "dtype": "f8"
         },
         "y": {
          "bdata": "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",
          "dtype": "f8"
         }
        },
        {
         "marker": {
          "color": "#1f77b4"
         },
         "mode": "markers",
         "name": "z1",
         "type": "scatter",
         "x": [
          2
         ],
         "y": [
          1
         ]
        },
        {
         "marker": {
          "color": "#ff7f0e"
         },
         "mode": "markers",
         "name": "z2",
         "type": "scatter",
         "x": [
          0
         ],
         "y": [
          1
         ]
        },
        {
         "marker": {
          "color": "#2ca02c"
         },
         "mode": "markers",
         "name": "z3",
         "type": "scatter",
         "x": [
          0
         ],
         "y": [
          -0.5
         ]
        }
       ],
       "layout": {
        "annotations": [
         {
          "arrowcolor": "#1f77b4",
          "arrowhead": 3,
          "arrowwidth": 1.5,
          "ax": 0,
          "axref": "x",
          "ay": 0,
          "ayref": "y",
          "showarrow": true,
          "text": "",
          "x": 2,
          "y": 1
         },
         {
          "arrowcolor": "#ff7f0e",
          "arrowhead": 3,
          "arrowwidth": 1.5,
          "ax": 0,
          "axref": "x",
          "ay": 0,
          "ayref": "y",
          "showarrow": true,
          "text": "",
          "x": 0,
          "y": 1
         },
         {
          "arrowcolor": "#2ca02c",
          "arrowhead": 3,
          "arrowwidth": 1.5,
          "ax": 0,
          "axref": "x",
          "ay": 0,
          "ayref": "y",
          "showarrow": true,
          "text": "",
          "x": 0,
          "y": -0.5
         }
        ],
        "template": {
         "data": {
          "bar": [
           {
            "error_x": {
             "color": "#2a3f5f"
            },
            "error_y": {
             "color": "#2a3f5f"
            },
            "marker": {
             "line": {
              "color": "#E5ECF6",
              "width": 0.5
             },
             "pattern": {
              "fillmode": "overlay",
              "size": 10,
              "solidity": 0.2
             }
            },
            "type": "bar"
           }
          ],
          "barpolar": [
           {
            "marker": {
             "line": {
              "color": "#E5ECF6",
              "width": 0.5
             },
             "pattern": {
              "fillmode": "overlay",
              "size": 10,
              "solidity": 0.2
             }
            },
            "type": "barpolar"
           }
          ],
          "carpet": [
           {
            "aaxis": {
             "endlinecolor": "#2a3f5f",
             "gridcolor": "white",
             "linecolor": "white",
             "minorgridcolor": "white",
             "startlinecolor": "#2a3f5f"
            },
            "baxis": {
             "endlinecolor": "#2a3f5f",
             "gridcolor": "white",
             "linecolor": "white",
             "minorgridcolor": "white",
             "startlinecolor": "#2a3f5f"
            },
            "type": "carpet"
           }
          ],
          "choropleth": [
           {
            "colorbar": {
             "outlinewidth": 0,
             "ticks": ""
            },
            "type": "choropleth"
           }
          ],
          "contour": [
           {
            "colorbar": {
             "outlinewidth": 0,
             "ticks": ""
            },
            "colorscale": [
             [
              0,
              "#0d0887"
             ],
             [
              0.1111111111111111,
              "#46039f"
             ],
             [
              0.2222222222222222,
              "#7201a8"
             ],
             [
              0.3333333333333333,
              "#9c179e"
             ],
             [
              0.4444444444444444,
              "#bd3786"
             ],
             [
              0.5555555555555556,
              "#d8576b"
             ],
             [
              0.6666666666666666,
              "#ed7953"
             ],
             [
              0.7777777777777778,
              "#fb9f3a"
             ],
             [
              0.8888888888888888,
              "#fdca26"
             ],
             [
              1,
              "#f0f921"
             ]
            ],
            "type": "contour"
           }
          ],
          "contourcarpet": [
           {
            "colorbar": {
             "outlinewidth": 0,
             "ticks": ""
            },
            "type": "contourcarpet"
           }
          ],
          "heatmap": [
           {
            "colorbar": {
             "outlinewidth": 0,
             "ticks": ""
            },
            "colorscale": [
             [
              0,
              "#0d0887"
             ],
             [
              0.1111111111111111,
              "#46039f"
             ],
             [
              0.2222222222222222,
              "#7201a8"
             ],
             [
              0.3333333333333333,
              "#9c179e"
             ],
             [
              0.4444444444444444,
              "#bd3786"
             ],
             [
              0.5555555555555556,
              "#d8576b"
             ],
             [
              0.6666666666666666,
              "#ed7953"
             ],
             [
              0.7777777777777778,
              "#fb9f3a"
             ],
             [
              0.8888888888888888,
              "#fdca26"
             ],
             [
              1,
              "#f0f921"
             ]
            ],
            "type": "heatmap"
           }
          ],
          "histogram": [
           {
            "marker": {
             "pattern": {
              "fillmode": "overlay",
              "size": 10,
              "solidity": 0.2
             }
            },
            "type": "histogram"
           }
          ],
          "histogram2d": [
           {
            "colorbar": {
             "outlinewidth": 0,
             "ticks": ""
            },
            "colorscale": [
             [
              0,
              "#0d0887"
             ],
             [
              0.1111111111111111,
              "#46039f"
             ],
             [
              0.2222222222222222,
              "#7201a8"
             ],
             [
              0.3333333333333333,
              "#9c179e"
             ],
             [
              0.4444444444444444,
              "#bd3786"
             ],
             [
              0.5555555555555556,
              "#d8576b"
             ],
             [
              0.6666666666666666,
              "#ed7953"
             ],
             [
              0.7777777777777778,
              "#fb9f3a"
             ],
             [
              0.8888888888888888,
              "#fdca26"
             ],
             [
              1,
              "#f0f921"
             ]
            ],
            "type": "histogram2d"
           }
          ],
          "histogram2dcontour": [
           {
            "colorbar": {
             "outlinewidth": 0,
             "ticks": ""
            },
            "colorscale": [
             [
              0,
              "#0d0887"
             ],
             [
              0.1111111111111111,
              "#46039f"
             ],
             [
              0.2222222222222222,
              "#7201a8"
             ],
             [
              0.3333333333333333,
              "#9c179e"
             ],
             [
              0.4444444444444444,
              "#bd3786"
             ],
             [
              0.5555555555555556,
              "#d8576b"
             ],
             [
              0.6666666666666666,
              "#ed7953"
             ],
             [
              0.7777777777777778,
              "#fb9f3a"
             ],
             [
              0.8888888888888888,
              "#fdca26"
             ],
             [
              1,
              "#f0f921"
             ]
            ],
            "type": "histogram2dcontour"
           }
          ],
          "mesh3d": [
           {
            "colorbar": {
             "outlinewidth": 0,
             "ticks": ""
            },
            "type": "mesh3d"
           }
          ],
          "parcoords": [
           {
            "line": {
             "colorbar": {
              "outlinewidth": 0,
              "ticks": ""
             }
            },
            "type": "parcoords"
           }
          ],
          "pie": [
           {
            "automargin": true,
            "type": "pie"
           }
          ],
          "scatter": [
           {
            "fillpattern": {
             "fillmode": "overlay",
             "size": 10,
             "solidity": 0.2
            },
            "type": "scatter"
           }
          ],
          "scatter3d": [
           {
            "line": {
             "colorbar": {
              "outlinewidth": 0,
              "ticks": ""
             }
            },
            "marker": {
             "colorbar": {
              "outlinewidth": 0,
              "ticks": ""
             }
            },
            "type": "scatter3d"
           }
          ],
          "scattercarpet": [
           {
            "marker": {
             "colorbar": {
              "outlinewidth": 0,
              "ticks": ""
             }
            },
            "type": "scattercarpet"
           }
          ],
          "scattergeo": [
           {
            "marker": {
             "colorbar": {
              "outlinewidth": 0,
              "ticks": ""
             }
            },
            "type": "scattergeo"
           }
          ],
          "scattergl": [
           {
            "marker": {
             "colorbar": {
              "outlinewidth": 0,
              "ticks": ""
             }
            },
            "type": "scattergl"
           }
          ],
          "scattermap": [
           {
            "marker": {
             "colorbar": {
              "outlinewidth": 0,
              "ticks": ""
             }
            },
            "type": "scattermap"
           }
          ],
          "scattermapbox": [
           {
            "marker": {
             "colorbar": {
              "outlinewidth": 0,
              "ticks": ""
             }
            },
            "type": "scattermapbox"
           }
          ],
          "scatterpolar": [
           {
            "marker": {
             "colorbar": {
              "outlinewidth": 0,
              "ticks": ""
             }
            },
            "type": "scatterpolar"
           }
          ],
          "scatterpolargl": [
           {
            "marker": {
             "colorbar": {
              "outlinewidth": 0,
              "ticks": ""
             }
            },
            "type": "scatterpolargl"
           }
          ],
          "scatterternary": [
           {
            "marker": {
             "colorbar": {
              "outlinewidth": 0,
              "ticks": ""
             }
            },
            "type": "scatterternary"
           }
          ],
          "surface": [
           {
            "colorbar": {
             "outlinewidth": 0,
             "ticks": ""
            },
            "colorscale": [
             [
              0,
              "#0d0887"
             ],
             [
              0.1111111111111111,
              "#46039f"
             ],
             [
              0.2222222222222222,
              "#7201a8"
             ],
             [
              0.3333333333333333,
              "#9c179e"
             ],
             [
              0.4444444444444444,
              "#bd3786"
             ],
             [
              0.5555555555555556,
              "#d8576b"
             ],
             [
              0.6666666666666666,
              "#ed7953"
             ],
             [
              0.7777777777777778,
              "#fb9f3a"
             ],
             [
              0.8888888888888888,
              "#fdca26"
             ],
             [
              1,
              "#f0f921"
             ]
            ],
            "type": "surface"
           }
          ],
          "table": [
           {
            "cells": {
             "fill": {
              "color": "#EBF0F8"
             },
             "line": {
              "color": "white"
             }
            },
            "header": {
             "fill": {
              "color": "#C8D4E3"
             },
             "line": {
              "color": "white"
             }
            },
            "type": "table"
           }
          ]
         },
         "layout": {
          "annotationdefaults": {
           "arrowcolor": "#2a3f5f",
           "arrowhead": 0,
           "arrowwidth": 1
          },
          "autotypenumbers": "strict",
          "coloraxis": {
           "colorbar": {
            "outlinewidth": 0,
            "ticks": ""
           }
          },
          "colorscale": {
           "diverging": [
            [
             0,
             "#8e0152"
            ],
            [
             0.1,
             "#c51b7d"
            ],
            [
             0.2,
             "#de77ae"
            ],
            [
             0.3,
             "#f1b6da"
            ],
            [
             0.4,
             "#fde0ef"
            ],
            [
             0.5,
             "#f7f7f7"
            ],
            [
             0.6,
             "#e6f5d0"
            ],
            [
             0.7,
             "#b8e186"
            ],
            [
             0.8,
             "#7fbc41"
            ],
            [
             0.9,
             "#4d9221"
            ],
            [
             1,
             "#276419"
            ]
           ],
           "sequential": [
            [
             0,
             "#0d0887"
            ],
            [
             0.1111111111111111,
             "#46039f"
            ],
            [
             0.2222222222222222,
             "#7201a8"
            ],
            [
             0.3333333333333333,
             "#9c179e"
            ],
            [
             0.4444444444444444,
             "#bd3786"
            ],
            [
             0.5555555555555556,
             "#d8576b"
            ],
            [
             0.6666666666666666,
             "#ed7953"
            ],
            [
             0.7777777777777778,
             "#fb9f3a"
            ],
            [
             0.8888888888888888,
             "#fdca26"
            ],
            [
             1,
             "#f0f921"
            ]
           ],
           "sequentialminus": [
            [
             0,
             "#0d0887"
            ],
            [
             0.1111111111111111,
             "#46039f"
            ],
            [
             0.2222222222222222,
             "#7201a8"
            ],
            [
             0.3333333333333333,
             "#9c179e"
            ],
            [
             0.4444444444444444,
             "#bd3786"
            ],
            [
             0.5555555555555556,
             "#d8576b"
            ],
            [
             0.6666666666666666,
             "#ed7953"
            ],
            [
             0.7777777777777778,
             "#fb9f3a"
            ],
            [
             0.8888888888888888,
             "#fdca26"
            ],
            [
             1,
             "#f0f921"
            ]
           ]
          },
          "colorway": [
           "#636efa",
           "#EF553B",
           "#00cc96",
           "#ab63fa",
           "#FFA15A",
           "#19d3f3",
           "#FF6692",
           "#B6E880",
           "#FF97FF",
           "#FECB52"
          ],
          "font": {
           "color": "#2a3f5f"
          },
          "geo": {
           "bgcolor": "white",
           "lakecolor": "white",
           "landcolor": "#E5ECF6",
           "showlakes": true,
           "showland": true,
           "subunitcolor": "white"
          },
          "hoverlabel": {
           "align": "left"
          },
          "hovermode": "closest",
          "mapbox": {
           "style": "light"
          },
          "paper_bgcolor": "white",
          "plot_bgcolor": "#E5ECF6",
          "polar": {
           "angularaxis": {
            "gridcolor": "white",
            "linecolor": "white",
            "ticks": ""
           },
           "bgcolor": "#E5ECF6",
           "radialaxis": {
            "gridcolor": "white",
            "linecolor": "white",
            "ticks": ""
           }
          },
          "scene": {
           "xaxis": {
            "backgroundcolor": "#E5ECF6",
            "gridcolor": "white",
            "gridwidth": 2,
            "linecolor": "white",
            "showbackground": true,
            "ticks": "",
            "zerolinecolor": "white"
           },
           "yaxis": {
            "backgroundcolor": "#E5ECF6",
            "gridcolor": "white",
            "gridwidth": 2,
            "linecolor": "white",
            "showbackground": true,
            "ticks": "",
            "zerolinecolor": "white"
           },
           "zaxis": {
            "backgroundcolor": "#E5ECF6",
            "gridcolor": "white",
            "gridwidth": 2,
            "linecolor": "white",
            "showbackground": true,
            "ticks": "",
            "zerolinecolor": "white"
           }
          },
          "shapedefaults": {
           "line": {
            "color": "#2a3f5f"
           }
          },
          "ternary": {
           "aaxis": {
            "gridcolor": "white",
            "linecolor": "white",
            "ticks": ""
           },
           "baxis": {
            "gridcolor": "white",
            "linecolor": "white",
            "ticks": ""
           },
           "bgcolor": "#E5ECF6",
           "caxis": {
            "gridcolor": "white",
            "linecolor": "white",
            "ticks": ""
           }
          },
          "title": {
           "x": 0.05
          },
          "xaxis": {
           "automargin": true,
           "gridcolor": "white",
           "linecolor": "white",
           "ticks": "",
           "title": {
            "standoff": 15
           },
           "zerolinecolor": "white",
           "zerolinewidth": 2
          },
          "yaxis": {
           "automargin": true,
           "gridcolor": "white",
           "linecolor": "white",
           "ticks": "",
           "title": {
            "standoff": 15
           },
           "zerolinecolor": "white",
           "zerolinewidth": 2
          }
         }
        },
        "xaxis": {
         "title": {
          "text": "Real"
         }
        },
        "yaxis": {
         "scaleanchor": "x",
         "scaleratio": 1,
         "title": {
          "text": "Imaginary"
         }
        }
       }
      }
     },
     "metadata": {},
     "output_type": "display_data"
    }
   ],
   "source": [
    "z1 = 2 + 1j\n",
    "z2 = 1j\n",
    "z3 = -0.5j\n",
    "plot_complex([z1, z2, z3], name=['z1', 'z2', 'z3'])"
   ]
  },
  {
   "cell_type": "markdown",
   "metadata": {
    "id": "aOfR7uusRA13"
   },
   "source": [
    "# **Exercises**\n",
    "\n",
    "**1. Complex Numbers**\n",
    "\n",
    "To exercise your understanding of complex numbers, do the following:\n",
    "\n",
    "1.1. Define $z_1 = -1+j0.3$ and $z_2 = 0.8+j0.7$. Enter these in Python and plot them as points and vectors in the complex plane."
   ]
  },
  {
   "cell_type": "code",
   "execution_count": 6,
   "metadata": {
    "executionInfo": {
     "elapsed": 13,
     "status": "ok",
     "timestamp": 1702317970078,
     "user": {
      "displayName": "PEDRO RAMONEDA FRANCO",
      "userId": "10653804143244385715"
     },
     "user_tz": -60
    },
    "id": "oGUfC_09QFHN"
   },
   "outputs": [
    {
     "data": {
      "application/vnd.plotly.v1+json": {
       "config": {
        "plotlyServerURL": "https://plot.ly"
       },
       "data": [
        {
         "line": {
          "color": "rgb(150,150,150)",
          "dash": "dash",
          "shape": "linear"
         },
         "mode": "lines",
         "name": "unit circle",
         "type": "scatter",
         "x": {
          "bdata": "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",
          "dtype": "f8"
         },
         "y": {
          "bdata": "AAAAAAAAAABONnLm8sJ5Pw1f+IHRwok/5EINZPNRkz+dtRTxS8KZP/GmbNswGaA/GHhnAhJRoz/K8aAVwYimP+QJwb01wKk/VigHpGf3rD+p4i85JxewP+ECvelwsrE/3qpuuYxNsz9pgH9+dui0P/rjqw8qg7Y/ULo8RKMduD+sNBL03be5P3uXrvfVUbs/Xv9AKIfrvD9qJLBf7YS+P82NUjwCD8A/IgtLJ2TbwD+5j+hemqfBP4lrw9Gic8I/cJXqbns/wz9xBuklIgvEP68Ty+aU1sQ/HccjotGhxT/LNhJJ1mzGP9HaRs2gN8c/ueEIIS8CyD9hgzs3f8zIP1VSYwOPlsk/doureVxgyj/8Y+uO5SnLP7pVqzgo88s/jWkqbSK8zD//f2Mj0oTNP/uXElM1Tc4/iRO69EkVzz+R+qcBDt3PP8ad/bk/UtA/BXVUI8610D+UvcA6MRnRP9f/mv5nfNE//62ubXHf0T/SvjyHTELSP0ZH/kr4pNI/3hInuXMH0z/UOmjSvWnTP+278pfVy9M/Gwt6C7ot1D+tqDYvao/UP0Wy6AXl8NQ/WHPakilS1T9O9OLZNrPVP0OIaN8LFNY/PFljqKd01j/y8l86CdXWPyDMgZsvNdc/N86F0hmV1z+a28TmxvTXPzZUNuA1VNg/hphyx2Wz2D/1irWlVRLZP5UP4YQEcdk/Lop/b3HP2T+QWsZwmy3aPzBXmJSBi9o/BEaI5yLp2j+NU9t2fkbbPx6Ii1CTo9s/TztKg2AA3D+EhYIe5VzcP6WvWzIgudw/66C7zxAV3T+ySkkItnDdP2ISb+4OzN0/ZDldlRon3j/9QgwR2IHeP0BYP3ZG3N4/3amG2mQ23z/mz0FUMpDfP3Qnovqt6d8/HZfWcmsh4D/wbR8X1k3gP5z8BXcWeuA/qTrSHyym4D8d3DqfFtLgP8R5ZoPV/eA/XbjsWmgp4T+Qbte0zlThP9DJoyAIgOE/AHJDLhSr4T/5qx1u8tXhP9R6EHGiAOI/BsBxyCMr4j9GWhAGdlXiPzRDNbyYf+I/yKukfYup4j+CF5/dTdPiP1R24m/f/OI/RT2ryD8m4z/afbV8bk/jPyH8PSFreOM/ekMDTDWh4z8NukaTzMnjP+6yzY0w8uM/6X7i0mAa5D/ze1X6XELkP0YjfpwkauQ/HBY8UreR5D8DKfi0FLnkP9ZtpV484OQ/TTzC6S0H5T8hOVnx6C3lP8ZbAhFtVOU/u/Lj5Ll65T9cprMJz6DlP1Z6txysxuU/jc3Gu1Ds5T+YWEuFvBHmP8EqQhjvNuY/gKU8FOhb5j96dmEZp4DmP/yPbcgrpeY/9R+1wnXJ5j9ehSSqhO3mPx1EQSFYEec/Yvcqy+805z9qQpxLS1jnP6y/60Zqe+c/h+4MYkye5z9EH5FC8cDnP4VdqI5Y4+c/IVki7YEF6D9STW8FbSfoP1bmoH8ZSeg/WyVrBIdq6D/UQiU9tYvoPx6PytOjrOg/gVH7clLN6D+Fpf3FwO3oP5VWvnjuDek/9LnRN9st6T8Bh3Swhk3pP8mtjJDwbOk/2CuqhhiM6T9f3wdC/qrpP5JYjHKhyek/UqnKyAHo6T8YMwP2HgbqPxVzJKz4I+o/lszLnY5B6j+qUUZ+4F7qP+qJkQHue+o/lDdc3LaY6j/CGgfEOrXqP+SypW550eo/Yv7+knLt6j9sOI7oJQnrPwKVgyeTJOs/GPvECLo/6z/rvO5FmlrrP35OVJkzdes/NvoAvoWP6z+hk7hvkKnrP1wo+GpTw+s/E6/2bM7c6z+otKUzAfbrP3IHsn3rDuw/k2CECo0n7D9uC0Ka5T/sPzGLze30V+w/cz7Hxrpv7D/lAI7nNofsPxzLPxNpnuw/YlC6DVG17D+cmpub7svsPz+kQoJB4uw/SvDPh0n47D9QICZzBg7tP4iI6gt4I+0/5sGFGp447T84OiRoeE3tP0vCtr4GYu0/Chrz6Eh27T+telSyPortP9geHOfnne0/x8hRVESx7T9nRsTHU8TtP4LzCRAW1+0/zTmB/Irp7T8BD1FdsvvtP+FwaQOMDe4/Qt+DwBcf7j/90yNnVTDuP9o4l8pEQe4/ddv2vuVR7j8H3yYZOGLuPy8s1647cu4/nt6DVvCB7j+8sHXnVZHuPy1lwjlsoO4/Vi5NJjOv7j+8E8eGqr3uP1VVrzXSy+4/wcxTDqrZ7j9uTNHsMefuP538E65p9O4/VbbXL1EB7z84XKhQ6A3vPzox4u8uGu8/RC2y7SQm7z+uTxYryjHvP6jv3YkePe8/dwqq7CFI7z+jj+021FLvP/Gq7Uw1Xe8/TwzCE0Vn7z+PLVVxA3HvPwmWZExweu8/FxyBjIuD7z9tJA8aVYzvP0vfRt7MlO8/joM0w/Kc7z+Wh7izxqTvPwzYh5tIrO8/fAwsZ3iz7z/JmQMEVrrvP3oCQmDhwO8/4gTwahrH7z8Ux+sTAc3vP70A6UuV0u8/yCJxBNfX7z/ffOMvxtzvP75gdcFi4e8/XUMyrazl7z/u2/vno+nvP65AimdI7e8/kQFsIprw7z+2QAYQmfPvP77IlChF9u8/5iAqZZ747z8En6+/pPrvP0h35TJY/O8/4cliurj97z9irpVSxv7vPws9w/iA/+8/15UHq+j/7z9o5VVo/f/vP7lneDC//+8/smgQBC7/7z99QpbkSf7vP7xZWdQS/e8/ixeA1oj77z9V4Qfvq/nvP3sOxSJ89+8/z9tid/n07z/jXGPzI/LvPyxrH5777u8/75LGf4Dr7z8R/l6hsufvP6pcxQyS4+8/esuszB7f7z8puJ7sWNrvP2HD+nhA1e8/tqD2ftXP7z9q9J0MGMrvPwUv0jAIxO8/vmZK+6W97z++LpN88bbvPztsDsbqr+8/Zinz6ZGo7z81Zk375qDvP/7m/Q3qmO8/8wC6NpuQ7z9vZAuL+ofvPyPlTyEIf+8/GkC5EMR17z+W30xxLmzvP8uc41tHYu8/dH8p6g5Y7z9Ke502hU3vP0srkVyqQu8/8YooeH437z83rVmmASzvP4px7AQ0IO8/jzZ6shUU7z/Vim3OpgfvP1/bAXnn+u4/GCBD09ft7j8jhg3/d+DuPxkYDR/I0u4/I2S9VsjE7j/8H2nKeLbuP97KKZ/Zp+4/Vk3n+uqY7j/4llcErYnuPxA6/uIfeu4/JgUsv0Nq7j+Cmv7BGFruP5EFYBWfSe4/Pk4G5NY47j82CnNZwCfuPybs8qFbFu4/1lCd6qgE7j9QylNhqPLtP+aowTRa4O0/PIJblL7N7T87tl6w1brtPwjy0Lmfp+0/7LB/4hyU7T80u/9cTYDtPxajrFwxbO0/iD+oFclX7T8eJdq8FEPtP+Ac74cULu0/J5lYrcgY7T90KExkMQPtP1bmwuRO7ew/Sep4ZyHX7D+otOwlqcDsP5iZXlrmqew/DCrQP9mS7D/ImgMSgnvsP3opew3hY+w/1n94b/ZL7D/TFPx1wjPsP+OLxF9FG+w/UBJObH8C7D+mutHbcOnrPzXWRO8Z0Os/rExY6Hq26z/I8XcJlJzrPyrZyZVlgus/Oqgt0e9n6z845jsAM03rP2ZKRWgvMus/VwhST+UW6z9cGiH8VPvqPyiKJ7Z+3+o/hbePxWLD6j9CnThzAafqP0wUtQhbiuo/7hRL0G9t6j9J9vIUQFDqP/arViLMMuo/3gHRRBQV6j9M1mzJGPfpPzBS5P3Z2Ok/nh+gMFi66T+Inrawk5vpP8AX682MfOk/I+6s2ENd6T8azhYiuT3pP1nb7fvsHek/4NyguN/96D9KZ0erkd3oP2UFoScDveg/EF8UgjSc6D91Xq4PJnvoP4RTISbYWeg/0RXEG0s46D+6JJFHfxboP+zFJQF19Oc/SCLBoCzS5z8RYUN/pq/nP4rBLPbijOc/87KcX+Jp5z/g6lAWpUbnP/55pHUrI+c/Qt+O2XX/5j92GaOehNvmP0K3DiJYt+Y/luWYwfCS5j+XfKHbTm7mP+wKIM9ySeY/j9+i+1wk5j8gEk7BDf/lP5SJ2oCF2eU/ggGVm8Sz5T/iDV1zy43lP1QdpGqaZ+U/6Hls5DFB5T91SEhEkhrlP3WGWO678+Q/cQZMR6/M5D/+al60bKXkP08gV5v0feQ/WFSIYkdW5D+F7c1wZS7kPyWAjC1PBuQ/S0KwAAXe4z9u/qtSh7XjP6MEeIzWjOM/fBqRF/Nj4z+Mafdd3TrjP6FsLcqVEeM/ods2xxzo4j8blpfAcr7iP5OMUiKYlOI/eqjoWI1q4j/mslfRUkDiPwE6GfnoFeI/SHUhPlDr4T9rKN4OicDhPxKFNdqTleE/WguFD3Fq4T8jaaAeIT/hPyZY0HekE+E/3HrRi/vn4D9AONPLJrzgP1+WdqkmkOA/xhPNlvtj4D/Kf1cGpjfgP7HRBGsmC+A/df1hcPq83z84nkfDVWPfP45jH7dfCd8/ch4hNRmv3j9bNlUng1TeP4NKknie+d0/GNF6FGye3T9gtHrn7ELdP9LtxN4h59w/Jh9R6AuL3D9xKdnyqy7cPzvC1u0C0ts/rwaByRF12z/yDMp22RfbP1hzXOdauto/Ae6YDZdc2j930pPcjv7ZP4ShEkhDoNk/PY+JRLVB2T9FCRnH5eLYP1Q7i8XVg9g/CpJRNoYk2D8EPIIQ+MTXP1ap1UssZdc/UQmk4CMF1z+xxuLH36TWP04CIvtgRNY/+AuKdKjj1T8P2tgut4LVP3V/XyWOIdU/CaD/Uy7A1D+m4yi3mF7UP75n1kvO/NM/gC+MD9Ca0z+dklQAnzjTP7eqvRw81tI/d7/WY6hz0j9NsS3V5BDSP+5izHDyrdE/qyE2N9JK0T9IDGUphefQP+V4x0gMhNA/m1k9l2gg0D/mPysuNnnPP4Q+F5ZJsc4/1tuIbA3pzT8Zi5i4gyDNP0zEJ4KuV8w/bcDb0Y+Oyz++MxixKcXKPxgG+il++8k/UglSR48xyT8jrp8UX2fIP5+2C57vnMc/pOdi8ELSxj8/uBAZWwfGP5b/GSY6PMU/OqEXJuJwxD/9NzEoVaXDP1S/FzyV2cI/WDsAcqQNwj9sX57ahEHBP6EzH4c4dcA/lXFHEoNRvz9nF3flQ7i9P0INv6y3Hrw/qMTYjeKEuj+MqzqvyOq4P+1pDThuULc/sB0hUNe1tT/DlOIfCBu0P6eFUNAEgLI/h8bwitHksD/VBYvz5JKuP1DghI7XW6s/YQGEPIMkqD9iLPVT8OykP85m5ysntaE/ga/sN2D6nD8XUWn4JoqWP7DFLEqzGZA/JThtvStSgz/ivZQ/+8JpP663lD/7wmm/lzZtvStSg7/qxCxKsxmQv1JQafgmipa/u67sN2D6nL9qZucrJ7Whvz4s9VPw7KS//QCEPIMkqL/s34SO11urv3EFi/Pkkq6/VcbwitHksL91hVDQBICyv5GU4h8IG7S/fx0hUNe1tb+7aQ04blC3v1qrOq/I6ri/d8TYjeKEur8QDb+stx68vzYXd+VDuL2/g3FHEoNRv7+KMx+HOHXAv1RfntqEQcG/QDsAcqQNwr89vxc8ldnCv+Y3MShVpcO/I6EXJuJwxL9+/xkmOjzFvye4EBlbB8a/jOdi8ELSxr+Itgue75zHvwuunxRfZ8i/OwlSR48xyb8BBvopfvvJv6czGLEpxcq/VsDb0Y+Oy780xCeCrlfMvwGLmLiDIM2/v9uIbA3pzb9tPheWSbHOv88/Ky42ec+/kFk9l2gg0L/aeMdIDITQvzwMZSmF59C/oCE2N9JK0b/iYsxw8q3Rv0GxLdXkENK/a7/WY6hz0r+sqr0cPNbSv5GSVACfONO/dC+MD9Ca07+zZ9ZLzvzTv5vjKLeYXtS//Z//Uy7A1L9qf18ljiHVvwTa2C63gtW/7QuKdKjj1b9DAiL7YETWv63G4sffpNa/Rgmk4CMF179KqdVLLGXXv/k7ghD4xNe//5FRNoYk2L9JO4vF1YPYvzkJGcfl4ti/Mo+JRLVB2b95oRJIQ6DZv2zSk9yO/tm/9u2YDZdc2r9Nc1znWrrav+cMynbZF9u/rAaByRF1278xwtbtAtLbv2Yp2fKrLty/Gx9R6AuL3L/H7cTeIefcv1W0eufsQt2/DdF6FGye3b94SpJ4nvndv1E2VSeDVN6/Zx4hNRmv3r+DYx+3Xwnfvy6eR8NVY9+/a/1hcPq837+s0QRrJgvgv8V/VwamN+C/wRPNlvtj4L9alnapJpDgvzs408smvOC/13rRi/vn4L8hWNB3pBPhvx5poB4hP+G/VQuFD3Fq4b8MhTXak5Xhv2Yo3g6JwOG/Q3UhPlDr4b/8ORn56BXiv+KyV9FSQOK/dqjoWI1q4r+OjFIimJTivxaWl8ByvuK/nNs2xxzo4r+dbC3KlRHjv4dp913dOuO/dxqRF/Nj47+fBHiM1ozjv2n+q1KHteO/RkKwAAXe478hgIwtTwbkv4PtzXBlLuS/U1SIYkdW5L9LIFeb9H3kv/pqXrRspeS/bAZMR6/M5L9whljuu/Pkv3FISESSGuW/5Hls5DFB5b9PHaRqmmflv90NXXPLjeW/fgGVm8Sz5b+QidqAhdnlvxwSTsEN/+W/jt+i+1wk5r/nCiDPcknmv5N8odtObua/kuWYwfCS5r89tw4iWLfmv3IZo56E2+a/Pt+O2XX/5r/5eaR1KyPnv9rqUBalRue/7rKcX+Jp57+GwSz24oznvwxhQ3+mr+e/RCLBoCzS57/qxSUBdfTnv7YkkUd/Fui/zBXEG0s46L99UyEm2Fnov3Berg8me+i/CV8UgjSc6L9gBaEnA73ov0hnR6uR3ei/3NyguN/96L9X2+377B3pvxbOFiK5Pem/Iu6s2ENd6b+8F+vNjHzpv4aetrCTm+m/lx+gMFi66b8sUuT92djpv0bWbMkY9+m/2gHRRBQV6r/wq1YizDLqv0X28hRAUOq/7BRL0G9t6r9IFLUIW4rqv0GdOHMBp+q/grePxWLD6r8niie2ft/qv1gaIfxU++q/UwhST+UW679gSkVoLzLrvzTmOwAzTeu/NKgt0e9n678m2cmVZYLrv8PxdwmUnOu/qExY6Hq2678z1kTvGdDrv6K60dtw6eu/ThJObH8C7L/gi8RfRRvsv9IU/HXCM+y/0394b/ZL7L93KXsN4WPsv8OaAxKCe+y/CSrQP9mS7L+TmV5a5qnsv6W07CWpwOy/Rep4ZyHX7L9T5sLkTu3sv3MoTGQxA+2/JJlYrcgY7b/fHO+HFC7tvxsl2rwUQ+2/hj+oFclX7b8So6xcMWztvzK7/1xNgO2/6bB/4hyU7b8H8tC5n6ftvzi2XrDVuu2/OYJblL7N7b/iqME0WuDtv07KU2Go8u2/1VCd6qgE7r8k7PKhWxbuvzYKc1nAJ+6/O04G5NY47r+PBWAVn0nuv3+a/sEYWu6/JQUsv0Nq7r8OOv7iH3ruv/eWVwStie6/U03n+uqY7r/dyimf2afuv/sfacp4tu6/ImS9VsjE7r8ZGA0fyNLuvyGGDf934O6/FiBD09ft7r9d2wF55/ruv9SKbc6mB++/jTZ6shUU77+JcewENCDvvzWtWaYBLO+/8IooeH43779JK5FcqkLvv0h7nTaFTe+/dH8p6g5Y77/JnONbR2Lvv5bfTHEubO+/GUC5EMR1778j5U8hCH/vv21kC4v6h++/8gC6NpuQ77/95v0N6pjvvzRmTfvmoO+/ZSnz6ZGo7786bA7G6q/vv7wuk3zxtu+/vWZK+6W9778FL9IwCMTvv2r0nQwYyu+/taD2ftXP779gw/p4QNXvvym4nuxY2u+/ecuszB7f77+pXMUMkuPvvxD+XqGy5++/75LGf4Dr778rax+e++7vv+NcY/Mj8u+/zttid/n07796DsUifPfvv1XhB++r+e+/ixeA1oj777+8WVnUEv3vv3xCluRJ/u+/smgQBC7/77+5Z3gwv//vv2jlVWj9/++/15UHq+j/778LPcP4gP/vv2KulVLG/u+/4cliurj9779Jd+UyWPzvvwSfr7+k+u+/5yAqZZ7477++yJQoRfbvv7ZABhCZ8++/kQFsIprw77+uQIpnSO3vv+7b++ej6e+/XkMyrazl77+/YHXBYuHvv+B84y/G3O+/ySJxBNfX77+9AOlLldLvvxXH6xMBze+/4gTwahrH7797AkJg4cDvv8qZAwRWuu+/fAwsZ3iz778N2IebSKzvv5aHuLPGpO+/j4M0w/Kc779M30bezJTvv24kDxpVjO+/GByBjIuD778LlmRMcHrvv5AtVXEDce+/UQzCE0Vn77/zqu1MNV3vv6OP7TbUUu+/eQqq7CFI77+o792JHj3vv7BPFivKMe+/RS2y7SQm7788MeLvLhrvvzlcqFDoDe+/V7bXL1EB77+e/BOuafTuv3BM0ewx5+6/w8xTDqrZ7r9YVa810svuv74Tx4aqve6/Vy5NJjOv7r8vZcI5bKDuv7ywdedVke6/od6DVvCB7r8wLNeuO3LuvwrfJhk4Yu6/dtv2vuVR7r/dOJfKREHuv/7TI2dVMO6/Rt+DwBcf7r/jcGkDjA3uvwQPUV2y++2/zzmB/Irp7b+D8wkQFtftv2pGxMdTxO2/yMhRVESx7b/cHhzn553tv696VLI+iu2/Dhrz6Eh27b9Mwra+BmLtvzw6JGh4Te2/6MGFGp447b+MiOoLeCPtv1IgJnMGDu2/TvDPh0n47L9CpEKCQeLsv52am5vuy+y/ZFC6DVG17L8dyz8TaZ7sv+gAjuc2h+y/dT7Hxrpv7L81i83t9Ffsv3ALQprlP+y/l2CECo0n7L91B7J96w7sv660pTMB9uu/Fq/2bM7c679hKPhqU8Prv6STuG+Qqeu/N/oAvoWP67+CTlSZM3Xrv+687kWaWuu/HPvECLo/678FlYMnkyTrv3E4juglCeu/ZP7+knLt6r/qsqVuedHqv8UaB8Q6teq/mjdc3LaY6r/uiZEB7nvqv6tRRn7gXuq/mszLnY5B6r8WcySs+CPqvx0zA/YeBuq/VanKyAHo6b+WWIxyocnpv2HfB0L+qum/3iuqhhiM6b/MrYyQ8GzpvweHdLCGTem/+LnRN9st6b+cVr547g3pv4ql/cXA7ei/g1H7clLN6L8ij8rTo6zov9ZCJT21i+i/YCVrBIdq6L9Z5qB/GUnov1hNbwVtJ+i/JFki7YEF6L+LXaiOWOPnv0YfkULxwOe/ju4MYkye57+wv+tGanvnv3BCnEtLWOe/aPcqy+80578gREEhWBHnv2KFJKqE7ea/+B+1wnXJ5r8CkG3IK6Xmv3x2YRmngOa/hqU8FOhb5r/EKkIY7zbmv55YS4W8Eea/kM3Gu1Ds5b9cerccrMblv2CmswnPoOW/wfLj5Ll65b/KWwIRbVTlvyI5WfHoLeW/UjzC6S0H5b/YbaVePODkvwgp+LQUueS/HxY8UreR5L9NI36cJGrkv/Z7VfpcQuS/8H7i0mAa5L/yss2NMPLjvxS6RpPMyeO/fkMDTDWh478p/D0ha3jjv999tXxuT+O/Rz2ryD8m479ZduJv3/ziv4UXn91N0+K/zqukfYup4r83QzW8mH/iv0xaEAZ2VeK/CcBxyCMr4r/behBxogDiv/2rHW7y1eG/CHJDLhSr4b/UyaMgCIDhv5hu17TOVOG/YrjsWmgp4b/GeWaD1f3gvyLcOp8W0uC/rDrSHyym4L+i/AV3Fnrgv/JtHxfWTeC/JJfWcmsh4L97J6L6renfv/TPQVQykN+/5qmG2mQ2379QWD92RtzevwZDDBHYgd6/dDldlRon3r9tEm/uDszdv7VKSQi2cN2/96C7zxAV3b+qr1syILncv5CFgh7lXNy/VTtKg2AA3L8tiItQk6Pbv5RT23Z+Rtu/E0aI5yLp2r85V5iUgYvav6BaxnCbLdq/OIp/b3HP2b+nD+GEBHHZvwCLtaVVEtm/i5hyx2Wz2L9CVDbgNVTYv6DbxObG9Ne/RM6F0hmV178mzIGbLzXXvwHzXzoJ1da/Q1ljqKd01r9TiGjfCxTWv1j04tk2s9W/aHPakilS1b9QsugF5fDUv8CoNi9qj9S/Jgt6C7ot1L/yu/KX1cvTv+A6aNK9adO/5BInuXMH079UR/5K+KTSv9m+PIdMQtK/Dq6ubXHf0b/f/5r+Z3zRv6S9wDoxGdG/D3VUI8610L/Xnf25P1LQv6f6pwEO3c+/kRO69EkVz78UmBJTNU3OvwqAYyPShM2/qGkqbSK8zL/HVas4KPPLvxpk647lKcu/hYureVxgyr91UmMDj5bJv3ODOzd/zMi/2+EIIS8CyL/l2kbNoDfHv/A2EknWbMa/M8cjotGhxb+4E8vmlNbEv4sG6SUiC8S/e5Xqbns/w7+la8PRonPCv8aP6F6ap8G/QQtLJ2TbwL/djVI8Ag/Av6sksF/thL6/gv9AKIfrvL/Dl6731VG7v9Y0EvTdt7m/m7o8RKMduL8o5KsPKoO2v3uAf3526LS/EqtuuYxNs7/3Ar3pcLKxv+LiLzknF7C/jCgHpGf3rL9fCsG9NcCpvwryoBXBiKa/nHhnAhJRo787p2zbMBmgv7y2FPFLwpm/jUMNZPNRk79yYfiB0cKJv0A5cubywnm/B1wUMyamsbw=",
          "dtype": "f8"
         }
        },
        {
         "marker": {
          "color": "#1f77b4"
         },
         "mode": "markers",
         "name": "z1",
         "type": "scatter",
         "x": [
          -1
         ],
         "y": [
          0.3
         ]
        },
        {
         "marker": {
          "color": "#ff7f0e"
         },
         "mode": "markers",
         "name": "z2",
         "type": "scatter",
         "x": [
          0.8
         ],
         "y": [
          0.7
         ]
        },
        {
         "marker": {
          "color": "#2ca02c"
         },
         "mode": "markers",
         "name": "z3",
         "type": "scatter",
         "x": [
          0
         ],
         "y": [
          -0.5
         ]
        }
       ],
       "layout": {
        "annotations": [
         {
          "arrowcolor": "#1f77b4",
          "arrowhead": 3,
          "arrowwidth": 1.5,
          "ax": 0,
          "axref": "x",
          "ay": 0,
          "ayref": "y",
          "showarrow": true,
          "text": "",
          "x": -1,
          "y": 0.3
         },
         {
          "arrowcolor": "#ff7f0e",
          "arrowhead": 3,
          "arrowwidth": 1.5,
          "ax": 0,
          "axref": "x",
          "ay": 0,
          "ayref": "y",
          "showarrow": true,
          "text": "",
          "x": 0.8,
          "y": 0.7
         },
         {
          "arrowcolor": "#2ca02c",
          "arrowhead": 3,
          "arrowwidth": 1.5,
          "ax": 0,
          "axref": "x",
          "ay": 0,
          "ayref": "y",
          "showarrow": true,
          "text": "",
          "x": 0,
          "y": -0.5
         }
        ],
        "template": {
         "data": {
          "bar": [
           {
            "error_x": {
             "color": "#2a3f5f"
            },
            "error_y": {
             "color": "#2a3f5f"
            },
            "marker": {
             "line": {
              "color": "#E5ECF6",
              "width": 0.5
             },
             "pattern": {
              "fillmode": "overlay",
              "size": 10,
              "solidity": 0.2
             }
            },
            "type": "bar"
           }
          ],
          "barpolar": [
           {
            "marker": {
             "line": {
              "color": "#E5ECF6",
              "width": 0.5
             },
             "pattern": {
              "fillmode": "overlay",
              "size": 10,
              "solidity": 0.2
             }
            },
            "type": "barpolar"
           }
          ],
          "carpet": [
           {
            "aaxis": {
             "endlinecolor": "#2a3f5f",
             "gridcolor": "white",
             "linecolor": "white",
             "minorgridcolor": "white",
             "startlinecolor": "#2a3f5f"
            },
            "baxis": {
             "endlinecolor": "#2a3f5f",
             "gridcolor": "white",
             "linecolor": "white",
             "minorgridcolor": "white",
             "startlinecolor": "#2a3f5f"
            },
            "type": "carpet"
           }
          ],
          "choropleth": [
           {
            "colorbar": {
             "outlinewidth": 0,
             "ticks": ""
            },
            "type": "choropleth"
           }
          ],
          "contour": [
           {
            "colorbar": {
             "outlinewidth": 0,
             "ticks": ""
            },
            "colorscale": [
             [
              0,
              "#0d0887"
             ],
             [
              0.1111111111111111,
              "#46039f"
             ],
             [
              0.2222222222222222,
              "#7201a8"
             ],
             [
              0.3333333333333333,
              "#9c179e"
             ],
             [
              0.4444444444444444,
              "#bd3786"
             ],
             [
              0.5555555555555556,
              "#d8576b"
             ],
             [
              0.6666666666666666,
              "#ed7953"
             ],
             [
              0.7777777777777778,
              "#fb9f3a"
             ],
             [
              0.8888888888888888,
              "#fdca26"
             ],
             [
              1,
              "#f0f921"
             ]
            ],
            "type": "contour"
           }
          ],
          "contourcarpet": [
           {
            "colorbar": {
             "outlinewidth": 0,
             "ticks": ""
            },
            "type": "contourcarpet"
           }
          ],
          "heatmap": [
           {
            "colorbar": {
             "outlinewidth": 0,
             "ticks": ""
            },
            "colorscale": [
             [
              0,
              "#0d0887"
             ],
             [
              0.1111111111111111,
              "#46039f"
             ],
             [
              0.2222222222222222,
              "#7201a8"
             ],
             [
              0.3333333333333333,
              "#9c179e"
             ],
             [
              0.4444444444444444,
              "#bd3786"
             ],
             [
              0.5555555555555556,
              "#d8576b"
             ],
             [
              0.6666666666666666,
              "#ed7953"
             ],
             [
              0.7777777777777778,
              "#fb9f3a"
             ],
             [
              0.8888888888888888,
              "#fdca26"
             ],
             [
              1,
              "#f0f921"
             ]
            ],
            "type": "heatmap"
           }
          ],
          "histogram": [
           {
            "marker": {
             "pattern": {
              "fillmode": "overlay",
              "size": 10,
              "solidity": 0.2
             }
            },
            "type": "histogram"
           }
          ],
          "histogram2d": [
           {
            "colorbar": {
             "outlinewidth": 0,
             "ticks": ""
            },
            "colorscale": [
             [
              0,
              "#0d0887"
             ],
             [
              0.1111111111111111,
              "#46039f"
             ],
             [
              0.2222222222222222,
              "#7201a8"
             ],
             [
              0.3333333333333333,
              "#9c179e"
             ],
             [
              0.4444444444444444,
              "#bd3786"
             ],
             [
              0.5555555555555556,
              "#d8576b"
             ],
             [
              0.6666666666666666,
              "#ed7953"
             ],
             [
              0.7777777777777778,
              "#fb9f3a"
             ],
             [
              0.8888888888888888,
              "#fdca26"
             ],
             [
              1,
              "#f0f921"
             ]
            ],
            "type": "histogram2d"
           }
          ],
          "histogram2dcontour": [
           {
            "colorbar": {
             "outlinewidth": 0,
             "ticks": ""
            },
            "colorscale": [
             [
              0,
              "#0d0887"
             ],
             [
              0.1111111111111111,
              "#46039f"
             ],
             [
              0.2222222222222222,
              "#7201a8"
             ],
             [
              0.3333333333333333,
              "#9c179e"
             ],
             [
              0.4444444444444444,
              "#bd3786"
             ],
             [
              0.5555555555555556,
              "#d8576b"
             ],
             [
              0.6666666666666666,
              "#ed7953"
             ],
             [
              0.7777777777777778,
              "#fb9f3a"
             ],
             [
              0.8888888888888888,
              "#fdca26"
             ],
             [
              1,
              "#f0f921"
             ]
            ],
            "type": "histogram2dcontour"
           }
          ],
          "mesh3d": [
           {
            "colorbar": {
             "outlinewidth": 0,
             "ticks": ""
            },
            "type": "mesh3d"
           }
          ],
          "parcoords": [
           {
            "line": {
             "colorbar": {
              "outlinewidth": 0,
              "ticks": ""
             }
            },
            "type": "parcoords"
           }
          ],
          "pie": [
           {
            "automargin": true,
            "type": "pie"
           }
          ],
          "scatter": [
           {
            "fillpattern": {
             "fillmode": "overlay",
             "size": 10,
             "solidity": 0.2
            },
            "type": "scatter"
           }
          ],
          "scatter3d": [
           {
            "line": {
             "colorbar": {
              "outlinewidth": 0,
              "ticks": ""
             }
            },
            "marker": {
             "colorbar": {
              "outlinewidth": 0,
              "ticks": ""
             }
            },
            "type": "scatter3d"
           }
          ],
          "scattercarpet": [
           {
            "marker": {
             "colorbar": {
              "outlinewidth": 0,
              "ticks": ""
             }
            },
            "type": "scattercarpet"
           }
          ],
          "scattergeo": [
           {
            "marker": {
             "colorbar": {
              "outlinewidth": 0,
              "ticks": ""
             }
            },
            "type": "scattergeo"
           }
          ],
          "scattergl": [
           {
            "marker": {
             "colorbar": {
              "outlinewidth": 0,
              "ticks": ""
             }
            },
            "type": "scattergl"
           }
          ],
          "scattermap": [
           {
            "marker": {
             "colorbar": {
              "outlinewidth": 0,
              "ticks": ""
             }
            },
            "type": "scattermap"
           }
          ],
          "scattermapbox": [
           {
            "marker": {
             "colorbar": {
              "outlinewidth": 0,
              "ticks": ""
             }
            },
            "type": "scattermapbox"
           }
          ],
          "scatterpolar": [
           {
            "marker": {
             "colorbar": {
              "outlinewidth": 0,
              "ticks": ""
             }
            },
            "type": "scatterpolar"
           }
          ],
          "scatterpolargl": [
           {
            "marker": {
             "colorbar": {
              "outlinewidth": 0,
              "ticks": ""
             }
            },
            "type": "scatterpolargl"
           }
          ],
          "scatterternary": [
           {
            "marker": {
             "colorbar": {
              "outlinewidth": 0,
              "ticks": ""
             }
            },
            "type": "scatterternary"
           }
          ],
          "surface": [
           {
            "colorbar": {
             "outlinewidth": 0,
             "ticks": ""
            },
            "colorscale": [
             [
              0,
              "#0d0887"
             ],
             [
              0.1111111111111111,
              "#46039f"
             ],
             [
              0.2222222222222222,
              "#7201a8"
             ],
             [
              0.3333333333333333,
              "#9c179e"
             ],
             [
              0.4444444444444444,
              "#bd3786"
             ],
             [
              0.5555555555555556,
              "#d8576b"
             ],
             [
              0.6666666666666666,
              "#ed7953"
             ],
             [
              0.7777777777777778,
              "#fb9f3a"
             ],
             [
              0.8888888888888888,
              "#fdca26"
             ],
             [
              1,
              "#f0f921"
             ]
            ],
            "type": "surface"
           }
          ],
          "table": [
           {
            "cells": {
             "fill": {
              "color": "#EBF0F8"
             },
             "line": {
              "color": "white"
             }
            },
            "header": {
             "fill": {
              "color": "#C8D4E3"
             },
             "line": {
              "color": "white"
             }
            },
            "type": "table"
           }
          ]
         },
         "layout": {
          "annotationdefaults": {
           "arrowcolor": "#2a3f5f",
           "arrowhead": 0,
           "arrowwidth": 1
          },
          "autotypenumbers": "strict",
          "coloraxis": {
           "colorbar": {
            "outlinewidth": 0,
            "ticks": ""
           }
          },
          "colorscale": {
           "diverging": [
            [
             0,
             "#8e0152"
            ],
            [
             0.1,
             "#c51b7d"
            ],
            [
             0.2,
             "#de77ae"
            ],
            [
             0.3,
             "#f1b6da"
            ],
            [
             0.4,
             "#fde0ef"
            ],
            [
             0.5,
             "#f7f7f7"
            ],
            [
             0.6,
             "#e6f5d0"
            ],
            [
             0.7,
             "#b8e186"
            ],
            [
             0.8,
             "#7fbc41"
            ],
            [
             0.9,
             "#4d9221"
            ],
            [
             1,
             "#276419"
            ]
           ],
           "sequential": [
            [
             0,
             "#0d0887"
            ],
            [
             0.1111111111111111,
             "#46039f"
            ],
            [
             0.2222222222222222,
             "#7201a8"
            ],
            [
             0.3333333333333333,
             "#9c179e"
            ],
            [
             0.4444444444444444,
             "#bd3786"
            ],
            [
             0.5555555555555556,
             "#d8576b"
            ],
            [
             0.6666666666666666,
             "#ed7953"
            ],
            [
             0.7777777777777778,
             "#fb9f3a"
            ],
            [
             0.8888888888888888,
             "#fdca26"
            ],
            [
             1,
             "#f0f921"
            ]
           ],
           "sequentialminus": [
            [
             0,
             "#0d0887"
            ],
            [
             0.1111111111111111,
             "#46039f"
            ],
            [
             0.2222222222222222,
             "#7201a8"
            ],
            [
             0.3333333333333333,
             "#9c179e"
            ],
            [
             0.4444444444444444,
             "#bd3786"
            ],
            [
             0.5555555555555556,
             "#d8576b"
            ],
            [
             0.6666666666666666,
             "#ed7953"
            ],
            [
             0.7777777777777778,
             "#fb9f3a"
            ],
            [
             0.8888888888888888,
             "#fdca26"
            ],
            [
             1,
             "#f0f921"
            ]
           ]
          },
          "colorway": [
           "#636efa",
           "#EF553B",
           "#00cc96",
           "#ab63fa",
           "#FFA15A",
           "#19d3f3",
           "#FF6692",
           "#B6E880",
           "#FF97FF",
           "#FECB52"
          ],
          "font": {
           "color": "#2a3f5f"
          },
          "geo": {
           "bgcolor": "white",
           "lakecolor": "white",
           "landcolor": "#E5ECF6",
           "showlakes": true,
           "showland": true,
           "subunitcolor": "white"
          },
          "hoverlabel": {
           "align": "left"
          },
          "hovermode": "closest",
          "mapbox": {
           "style": "light"
          },
          "paper_bgcolor": "white",
          "plot_bgcolor": "#E5ECF6",
          "polar": {
           "angularaxis": {
            "gridcolor": "white",
            "linecolor": "white",
            "ticks": ""
           },
           "bgcolor": "#E5ECF6",
           "radialaxis": {
            "gridcolor": "white",
            "linecolor": "white",
            "ticks": ""
           }
          },
          "scene": {
           "xaxis": {
            "backgroundcolor": "#E5ECF6",
            "gridcolor": "white",
            "gridwidth": 2,
            "linecolor": "white",
            "showbackground": true,
            "ticks": "",
            "zerolinecolor": "white"
           },
           "yaxis": {
            "backgroundcolor": "#E5ECF6",
            "gridcolor": "white",
            "gridwidth": 2,
            "linecolor": "white",
            "showbackground": true,
            "ticks": "",
            "zerolinecolor": "white"
           },
           "zaxis": {
            "backgroundcolor": "#E5ECF6",
            "gridcolor": "white",
            "gridwidth": 2,
            "linecolor": "white",
            "showbackground": true,
            "ticks": "",
            "zerolinecolor": "white"
           }
          },
          "shapedefaults": {
           "line": {
            "color": "#2a3f5f"
           }
          },
          "ternary": {
           "aaxis": {
            "gridcolor": "white",
            "linecolor": "white",
            "ticks": ""
           },
           "baxis": {
            "gridcolor": "white",
            "linecolor": "white",
            "ticks": ""
           },
           "bgcolor": "#E5ECF6",
           "caxis": {
            "gridcolor": "white",
            "linecolor": "white",
            "ticks": ""
           }
          },
          "title": {
           "x": 0.05
          },
          "xaxis": {
           "automargin": true,
           "gridcolor": "white",
           "linecolor": "white",
           "ticks": "",
           "title": {
            "standoff": 15
           },
           "zerolinecolor": "white",
           "zerolinewidth": 2
          },
          "yaxis": {
           "automargin": true,
           "gridcolor": "white",
           "linecolor": "white",
           "ticks": "",
           "title": {
            "standoff": 15
           },
           "zerolinecolor": "white",
           "zerolinewidth": 2
          }
         }
        },
        "xaxis": {
         "title": {
          "text": "Real"
         }
        },
        "yaxis": {
         "scaleanchor": "x",
         "scaleratio": 1,
         "title": {
          "text": "Imaginary"
         }
        }
       }
      }
     },
     "metadata": {},
     "output_type": "display_data"
    }
   ],
   "source": [
    "z1 = -1 + 0.3j\n",
    "z2 = 0.8 + 0.7j\n",
    "\n",
    "plot_complex([z1,z2,z3], name=['z1','z2','z3'])"
   ]
  },
  {
   "cell_type": "markdown",
   "metadata": {
    "id": "HI6f-fu7KD5a"
   },
   "source": [
    "1.2. Compute the conjugate z* and the inverse 1/z for both $z_1$ and $z_2$ and plot the results as vectors in the complex plane."
   ]
  },
  {
   "cell_type": "code",
   "execution_count": 10,
   "metadata": {
    "executionInfo": {
     "elapsed": 12,
     "status": "ok",
     "timestamp": 1702317970078,
     "user": {
      "displayName": "PEDRO RAMONEDA FRANCO",
      "userId": "10653804143244385715"
     },
     "user_tz": -60
    },
    "id": "Novsdl6JRX7z"
   },
   "outputs": [
    {
     "data": {
      "application/vnd.plotly.v1+json": {
       "config": {
        "plotlyServerURL": "https://plot.ly"
       },
       "data": [
        {
         "line": {
          "color": "rgb(150,150,150)",
          "dash": "dash",
          "shape": "linear"
         },
         "mode": "lines",
         "name": "unit circle",
         "type": "scatter",
         "x": {
          "bdata": "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",
          "dtype": "f8"
         },
         "y": {
          "bdata": "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",
          "dtype": "f8"
         }
        },
        {
         "marker": {
          "color": "#1f77b4"
         },
         "mode": "markers",
         "name": "z_0",
         "type": "scatter",
         "x": [
          -1
         ],
         "y": [
          -0.3
         ]
        },
        {
         "marker": {
          "color": "#ff7f0e"
         },
         "mode": "markers",
         "name": "z_1",
         "type": "scatter",
         "x": [
          0.8
         ],
         "y": [
          -0.7
         ]
        },
        {
         "marker": {
          "color": "#2ca02c"
         },
         "mode": "markers",
         "name": "z_2",
         "type": "scatter",
         "x": [
          -0.9174311926605504
         ],
         "y": [
          0.2752293577981651
         ]
        },
        {
         "marker": {
          "color": "#d62728"
         },
         "mode": "markers",
         "name": "z_3",
         "type": "scatter",
         "x": [
          0.7079646017699115
         ],
         "y": [
          0.6194690265486725
         ]
        }
       ],
       "layout": {
        "annotations": [
         {
          "arrowcolor": "#1f77b4",
          "arrowhead": 3,
          "arrowwidth": 1.5,
          "ax": 0,
          "axref": "x",
          "ay": 0,
          "ayref": "y",
          "showarrow": true,
          "text": "",
          "x": -1,
          "y": -0.3
         },
         {
          "arrowcolor": "#ff7f0e",
          "arrowhead": 3,
          "arrowwidth": 1.5,
          "ax": 0,
          "axref": "x",
          "ay": 0,
          "ayref": "y",
          "showarrow": true,
          "text": "",
          "x": 0.8,
          "y": -0.7
         },
         {
          "arrowcolor": "#2ca02c",
          "arrowhead": 3,
          "arrowwidth": 1.5,
          "ax": 0,
          "axref": "x",
          "ay": 0,
          "ayref": "y",
          "showarrow": true,
          "text": "",
          "x": -0.9174311926605504,
          "y": 0.2752293577981651
         },
         {
          "arrowcolor": "#d62728",
          "arrowhead": 3,
          "arrowwidth": 1.5,
          "ax": 0,
          "axref": "x",
          "ay": 0,
          "ayref": "y",
          "showarrow": true,
          "text": "",
          "x": 0.7079646017699115,
          "y": 0.6194690265486725
         }
        ],
        "template": {
         "data": {
          "bar": [
           {
            "error_x": {
             "color": "#2a3f5f"
            },
            "error_y": {
             "color": "#2a3f5f"
            },
            "marker": {
             "line": {
              "color": "#E5ECF6",
              "width": 0.5
             },
             "pattern": {
              "fillmode": "overlay",
              "size": 10,
              "solidity": 0.2
             }
            },
            "type": "bar"
           }
          ],
          "barpolar": [
           {
            "marker": {
             "line": {
              "color": "#E5ECF6",
              "width": 0.5
             },
             "pattern": {
              "fillmode": "overlay",
              "size": 10,
              "solidity": 0.2
             }
            },
            "type": "barpolar"
           }
          ],
          "carpet": [
           {
            "aaxis": {
             "endlinecolor": "#2a3f5f",
             "gridcolor": "white",
             "linecolor": "white",
             "minorgridcolor": "white",
             "startlinecolor": "#2a3f5f"
            },
            "baxis": {
             "endlinecolor": "#2a3f5f",
             "gridcolor": "white",
             "linecolor": "white",
             "minorgridcolor": "white",
             "startlinecolor": "#2a3f5f"
            },
            "type": "carpet"
           }
          ],
          "choropleth": [
           {
            "colorbar": {
             "outlinewidth": 0,
             "ticks": ""
            },
            "type": "choropleth"
           }
          ],
          "contour": [
           {
            "colorbar": {
             "outlinewidth": 0,
             "ticks": ""
            },
            "colorscale": [
             [
              0,
              "#0d0887"
             ],
             [
              0.1111111111111111,
              "#46039f"
             ],
             [
              0.2222222222222222,
              "#7201a8"
             ],
             [
              0.3333333333333333,
              "#9c179e"
             ],
             [
              0.4444444444444444,
              "#bd3786"
             ],
             [
              0.5555555555555556,
              "#d8576b"
             ],
             [
              0.6666666666666666,
              "#ed7953"
             ],
             [
              0.7777777777777778,
              "#fb9f3a"
             ],
             [
              0.8888888888888888,
              "#fdca26"
             ],
             [
              1,
              "#f0f921"
             ]
            ],
            "type": "contour"
           }
          ],
          "contourcarpet": [
           {
            "colorbar": {
             "outlinewidth": 0,
             "ticks": ""
            },
            "type": "contourcarpet"
           }
          ],
          "heatmap": [
           {
            "colorbar": {
             "outlinewidth": 0,
             "ticks": ""
            },
            "colorscale": [
             [
              0,
              "#0d0887"
             ],
             [
              0.1111111111111111,
              "#46039f"
             ],
             [
              0.2222222222222222,
              "#7201a8"
             ],
             [
              0.3333333333333333,
              "#9c179e"
             ],
             [
              0.4444444444444444,
              "#bd3786"
             ],
             [
              0.5555555555555556,
              "#d8576b"
             ],
             [
              0.6666666666666666,
              "#ed7953"
             ],
             [
              0.7777777777777778,
              "#fb9f3a"
             ],
             [
              0.8888888888888888,
              "#fdca26"
             ],
             [
              1,
              "#f0f921"
             ]
            ],
            "type": "heatmap"
           }
          ],
          "histogram": [
           {
            "marker": {
             "pattern": {
              "fillmode": "overlay",
              "size": 10,
              "solidity": 0.2
             }
            },
            "type": "histogram"
           }
          ],
          "histogram2d": [
           {
            "colorbar": {
             "outlinewidth": 0,
             "ticks": ""
            },
            "colorscale": [
             [
              0,
              "#0d0887"
             ],
             [
              0.1111111111111111,
              "#46039f"
             ],
             [
              0.2222222222222222,
              "#7201a8"
             ],
             [
              0.3333333333333333,
              "#9c179e"
             ],
             [
              0.4444444444444444,
              "#bd3786"
             ],
             [
              0.5555555555555556,
              "#d8576b"
             ],
             [
              0.6666666666666666,
              "#ed7953"
             ],
             [
              0.7777777777777778,
              "#fb9f3a"
             ],
             [
              0.8888888888888888,
              "#fdca26"
             ],
             [
              1,
              "#f0f921"
             ]
            ],
            "type": "histogram2d"
           }
          ],
          "histogram2dcontour": [
           {
            "colorbar": {
             "outlinewidth": 0,
             "ticks": ""
            },
            "colorscale": [
             [
              0,
              "#0d0887"
             ],
             [
              0.1111111111111111,
              "#46039f"
             ],
             [
              0.2222222222222222,
              "#7201a8"
             ],
             [
              0.3333333333333333,
              "#9c179e"
             ],
             [
              0.4444444444444444,
              "#bd3786"
             ],
             [
              0.5555555555555556,
              "#d8576b"
             ],
             [
              0.6666666666666666,
              "#ed7953"
             ],
             [
              0.7777777777777778,
              "#fb9f3a"
             ],
             [
              0.8888888888888888,
              "#fdca26"
             ],
             [
              1,
              "#f0f921"
             ]
            ],
            "type": "histogram2dcontour"
           }
          ],
          "mesh3d": [
           {
            "colorbar": {
             "outlinewidth": 0,
             "ticks": ""
            },
            "type": "mesh3d"
           }
          ],
          "parcoords": [
           {
            "line": {
             "colorbar": {
              "outlinewidth": 0,
              "ticks": ""
             }
            },
            "type": "parcoords"
           }
          ],
          "pie": [
           {
            "automargin": true,
            "type": "pie"
           }
          ],
          "scatter": [
           {
            "fillpattern": {
             "fillmode": "overlay",
             "size": 10,
             "solidity": 0.2
            },
            "type": "scatter"
           }
          ],
          "scatter3d": [
           {
            "line": {
             "colorbar": {
              "outlinewidth": 0,
              "ticks": ""
             }
            },
            "marker": {
             "colorbar": {
              "outlinewidth": 0,
              "ticks": ""
             }
            },
            "type": "scatter3d"
           }
          ],
          "scattercarpet": [
           {
            "marker": {
             "colorbar": {
              "outlinewidth": 0,
              "ticks": ""
             }
            },
            "type": "scattercarpet"
           }
          ],
          "scattergeo": [
           {
            "marker": {
             "colorbar": {
              "outlinewidth": 0,
              "ticks": ""
             }
            },
            "type": "scattergeo"
           }
          ],
          "scattergl": [
           {
            "marker": {
             "colorbar": {
              "outlinewidth": 0,
              "ticks": ""
             }
            },
            "type": "scattergl"
           }
          ],
          "scattermap": [
           {
            "marker": {
             "colorbar": {
              "outlinewidth": 0,
              "ticks": ""
             }
            },
            "type": "scattermap"
           }
          ],
          "scattermapbox": [
           {
            "marker": {
             "colorbar": {
              "outlinewidth": 0,
              "ticks": ""
             }
            },
            "type": "scattermapbox"
           }
          ],
          "scatterpolar": [
           {
            "marker": {
             "colorbar": {
              "outlinewidth": 0,
              "ticks": ""
             }
            },
            "type": "scatterpolar"
           }
          ],
          "scatterpolargl": [
           {
            "marker": {
             "colorbar": {
              "outlinewidth": 0,
              "ticks": ""
             }
            },
            "type": "scatterpolargl"
           }
          ],
          "scatterternary": [
           {
            "marker": {
             "colorbar": {
              "outlinewidth": 0,
              "ticks": ""
             }
            },
            "type": "scatterternary"
           }
          ],
          "surface": [
           {
            "colorbar": {
             "outlinewidth": 0,
             "ticks": ""
            },
            "colorscale": [
             [
              0,
              "#0d0887"
             ],
             [
              0.1111111111111111,
              "#46039f"
             ],
             [
              0.2222222222222222,
              "#7201a8"
             ],
             [
              0.3333333333333333,
              "#9c179e"
             ],
             [
              0.4444444444444444,
              "#bd3786"
             ],
             [
              0.5555555555555556,
              "#d8576b"
             ],
             [
              0.6666666666666666,
              "#ed7953"
             ],
             [
              0.7777777777777778,
              "#fb9f3a"
             ],
             [
              0.8888888888888888,
              "#fdca26"
             ],
             [
              1,
              "#f0f921"
             ]
            ],
            "type": "surface"
           }
          ],
          "table": [
           {
            "cells": {
             "fill": {
              "color": "#EBF0F8"
             },
             "line": {
              "color": "white"
             }
            },
            "header": {
             "fill": {
              "color": "#C8D4E3"
             },
             "line": {
              "color": "white"
             }
            },
            "type": "table"
           }
          ]
         },
         "layout": {
          "annotationdefaults": {
           "arrowcolor": "#2a3f5f",
           "arrowhead": 0,
           "arrowwidth": 1
          },
          "autotypenumbers": "strict",
          "coloraxis": {
           "colorbar": {
            "outlinewidth": 0,
            "ticks": ""
           }
          },
          "colorscale": {
           "diverging": [
            [
             0,
             "#8e0152"
            ],
            [
             0.1,
             "#c51b7d"
            ],
            [
             0.2,
             "#de77ae"
            ],
            [
             0.3,
             "#f1b6da"
            ],
            [
             0.4,
             "#fde0ef"
            ],
            [
             0.5,
             "#f7f7f7"
            ],
            [
             0.6,
             "#e6f5d0"
            ],
            [
             0.7,
             "#b8e186"
            ],
            [
             0.8,
             "#7fbc41"
            ],
            [
             0.9,
             "#4d9221"
            ],
            [
             1,
             "#276419"
            ]
           ],
           "sequential": [
            [
             0,
             "#0d0887"
            ],
            [
             0.1111111111111111,
             "#46039f"
            ],
            [
             0.2222222222222222,
             "#7201a8"
            ],
            [
             0.3333333333333333,
             "#9c179e"
            ],
            [
             0.4444444444444444,
             "#bd3786"
            ],
            [
             0.5555555555555556,
             "#d8576b"
            ],
            [
             0.6666666666666666,
             "#ed7953"
            ],
            [
             0.7777777777777778,
             "#fb9f3a"
            ],
            [
             0.8888888888888888,
             "#fdca26"
            ],
            [
             1,
             "#f0f921"
            ]
           ],
           "sequentialminus": [
            [
             0,
             "#0d0887"
            ],
            [
             0.1111111111111111,
             "#46039f"
            ],
            [
             0.2222222222222222,
             "#7201a8"
            ],
            [
             0.3333333333333333,
             "#9c179e"
            ],
            [
             0.4444444444444444,
             "#bd3786"
            ],
            [
             0.5555555555555556,
             "#d8576b"
            ],
            [
             0.6666666666666666,
             "#ed7953"
            ],
            [
             0.7777777777777778,
             "#fb9f3a"
            ],
            [
             0.8888888888888888,
             "#fdca26"
            ],
            [
             1,
             "#f0f921"
            ]
           ]
          },
          "colorway": [
           "#636efa",
           "#EF553B",
           "#00cc96",
           "#ab63fa",
           "#FFA15A",
           "#19d3f3",
           "#FF6692",
           "#B6E880",
           "#FF97FF",
           "#FECB52"
          ],
          "font": {
           "color": "#2a3f5f"
          },
          "geo": {
           "bgcolor": "white",
           "lakecolor": "white",
           "landcolor": "#E5ECF6",
           "showlakes": true,
           "showland": true,
           "subunitcolor": "white"
          },
          "hoverlabel": {
           "align": "left"
          },
          "hovermode": "closest",
          "mapbox": {
           "style": "light"
          },
          "paper_bgcolor": "white",
          "plot_bgcolor": "#E5ECF6",
          "polar": {
           "angularaxis": {
            "gridcolor": "white",
            "linecolor": "white",
            "ticks": ""
           },
           "bgcolor": "#E5ECF6",
           "radialaxis": {
            "gridcolor": "white",
            "linecolor": "white",
            "ticks": ""
           }
          },
          "scene": {
           "xaxis": {
            "backgroundcolor": "#E5ECF6",
            "gridcolor": "white",
            "gridwidth": 2,
            "linecolor": "white",
            "showbackground": true,
            "ticks": "",
            "zerolinecolor": "white"
           },
           "yaxis": {
            "backgroundcolor": "#E5ECF6",
            "gridcolor": "white",
            "gridwidth": 2,
            "linecolor": "white",
            "showbackground": true,
            "ticks": "",
            "zerolinecolor": "white"
           },
           "zaxis": {
            "backgroundcolor": "#E5ECF6",
            "gridcolor": "white",
            "gridwidth": 2,
            "linecolor": "white",
            "showbackground": true,
            "ticks": "",
            "zerolinecolor": "white"
           }
          },
          "shapedefaults": {
           "line": {
            "color": "#2a3f5f"
           }
          },
          "ternary": {
           "aaxis": {
            "gridcolor": "white",
            "linecolor": "white",
            "ticks": ""
           },
           "baxis": {
            "gridcolor": "white",
            "linecolor": "white",
            "ticks": ""
           },
           "bgcolor": "#E5ECF6",
           "caxis": {
            "gridcolor": "white",
            "linecolor": "white",
            "ticks": ""
           }
          },
          "title": {
           "x": 0.05
          },
          "xaxis": {
           "automargin": true,
           "gridcolor": "white",
           "linecolor": "white",
           "ticks": "",
           "title": {
            "standoff": 15
           },
           "zerolinecolor": "white",
           "zerolinewidth": 2
          },
          "yaxis": {
           "automargin": true,
           "gridcolor": "white",
           "linecolor": "white",
           "ticks": "",
           "title": {
            "standoff": 15
           },
           "zerolinecolor": "white",
           "zerolinewidth": 2
          }
         }
        },
        "xaxis": {
         "title": {
          "text": "Real"
         }
        },
        "yaxis": {
         "scaleanchor": "x",
         "scaleratio": 1,
         "title": {
          "text": "Imaginary"
         }
        }
       }
      }
     },
     "metadata": {},
     "output_type": "display_data"
    }
   ],
   "source": [
    "z1conj = np.conj(z1)\n",
    "z2conj = np.conj(z2)\n",
    "\n",
    "z1inverse = 1/z1conj\n",
    "z2inverse = 1/z2conj\n",
    "\n",
    "plot_complex([z1conj,z2conj,z1inverse,z2inverse])"
   ]
  },
  {
   "cell_type": "markdown",
   "metadata": {
    "id": "gjPVdnvuKD06"
   },
   "source": [
    "**2. Complex Exponentials**\n",
    "\n",
    "Now let's work with complex exponentials. In python is very easy to work with these type of signals:"
   ]
  },
  {
   "cell_type": "code",
   "execution_count": 14,
   "metadata": {
    "executionInfo": {
     "elapsed": 12,
     "status": "ok",
     "timestamp": 1702317970079,
     "user": {
      "displayName": "PEDRO RAMONEDA FRANCO",
      "userId": "10653804143244385715"
     },
     "user_tz": -60
    },
    "id": "kjkqiEqriy6R"
   },
   "outputs": [],
   "source": [
    "A = 1.0 \n",
    "f0 = 440.0\n",
    "fs = 44100\n",
    "phi = np.pi/2\n",
    "t = np.arange(0, .1, 1.0/fs)\n",
    "x = A * np.exp(1j*(2*f0*np.pi*t + phi))"
   ]
  },
  {
   "cell_type": "markdown",
   "metadata": {
    "id": "uUmIGLWyi9Wg"
   },
   "source": [
    "Now we can plot the real and imaginary part of this signal:\n"
   ]
  },
  {
   "cell_type": "code",
   "execution_count": 15,
   "metadata": {
    "colab": {
     "base_uri": "https://localhost:8080/",
     "height": 542
    },
    "executionInfo": {
     "elapsed": 1589,
     "status": "ok",
     "timestamp": 1702317971655,
     "user": {
      "displayName": "PEDRO RAMONEDA FRANCO",
      "userId": "10653804143244385715"
     },
     "user_tz": -60
    },
    "id": "3qRWzLQ4i86e",
    "outputId": "74ecce8b-bb7c-4a29-ee26-1b8a35492cfb"
   },
   "outputs": [
    {
     "data": {
      "application/vnd.plotly.v1+json": {
       "config": {
        "linkText": "Export to plot.ly",
        "plotlyServerURL": "https://plot.ly",
        "showLink": false
       },
       "data": [
        {
         "line": {
          "color": "#1f77b4",
          "shape": "linear"
         },
         "mode": "lines",
         "name": "real part",
         "type": "scatter",
         "x": {
          "bdata": "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",
          "dtype": "f8"
         },
         "y": {
          "bdata": "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",
          "dtype": "f8"
         }
        },
        {
         "line": {
          "color": "#ff7f0e",
          "shape": "linear"
         },
         "mode": "lines",
         "name": "imag part",
         "type": "scatter",
         "x": {
          "bdata": "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",
          "dtype": "f8"
         },
         "y": {
          "bdata": "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",
          "dtype": "f8"
         }
        }
       ],
       "layout": {
        "template": {
         "data": {
          "bar": [
           {
            "error_x": {
             "color": "#2a3f5f"
            },
            "error_y": {
             "color": "#2a3f5f"
            },
            "marker": {
             "line": {
              "color": "#E5ECF6",
              "width": 0.5
             },
             "pattern": {
              "fillmode": "overlay",
              "size": 10,
              "solidity": 0.2
             }
            },
            "type": "bar"
           }
          ],
          "barpolar": [
           {
            "marker": {
             "line": {
              "color": "#E5ECF6",
              "width": 0.5
             },
             "pattern": {
              "fillmode": "overlay",
              "size": 10,
              "solidity": 0.2
             }
            },
            "type": "barpolar"
           }
          ],
          "carpet": [
           {
            "aaxis": {
             "endlinecolor": "#2a3f5f",
             "gridcolor": "white",
             "linecolor": "white",
             "minorgridcolor": "white",
             "startlinecolor": "#2a3f5f"
            },
            "baxis": {
             "endlinecolor": "#2a3f5f",
             "gridcolor": "white",
             "linecolor": "white",
             "minorgridcolor": "white",
             "startlinecolor": "#2a3f5f"
            },
            "type": "carpet"
           }
          ],
          "choropleth": [
           {
            "colorbar": {
             "outlinewidth": 0,
             "ticks": ""
            },
            "type": "choropleth"
           }
          ],
          "contour": [
           {
            "colorbar": {
             "outlinewidth": 0,
             "ticks": ""
            },
            "colorscale": [
             [
              0,
              "#0d0887"
             ],
             [
              0.1111111111111111,
              "#46039f"
             ],
             [
              0.2222222222222222,
              "#7201a8"
             ],
             [
              0.3333333333333333,
              "#9c179e"
             ],
             [
              0.4444444444444444,
              "#bd3786"
             ],
             [
              0.5555555555555556,
              "#d8576b"
             ],
             [
              0.6666666666666666,
              "#ed7953"
             ],
             [
              0.7777777777777778,
              "#fb9f3a"
             ],
             [
              0.8888888888888888,
              "#fdca26"
             ],
             [
              1,
              "#f0f921"
             ]
            ],
            "type": "contour"
           }
          ],
          "contourcarpet": [
           {
            "colorbar": {
             "outlinewidth": 0,
             "ticks": ""
            },
            "type": "contourcarpet"
           }
          ],
          "heatmap": [
           {
            "colorbar": {
             "outlinewidth": 0,
             "ticks": ""
            },
            "colorscale": [
             [
              0,
              "#0d0887"
             ],
             [
              0.1111111111111111,
              "#46039f"
             ],
             [
              0.2222222222222222,
              "#7201a8"
             ],
             [
              0.3333333333333333,
              "#9c179e"
             ],
             [
              0.4444444444444444,
              "#bd3786"
             ],
             [
              0.5555555555555556,
              "#d8576b"
             ],
             [
              0.6666666666666666,
              "#ed7953"
             ],
             [
              0.7777777777777778,
              "#fb9f3a"
             ],
             [
              0.8888888888888888,
              "#fdca26"
             ],
             [
              1,
              "#f0f921"
             ]
            ],
            "type": "heatmap"
           }
          ],
          "histogram": [
           {
            "marker": {
             "pattern": {
              "fillmode": "overlay",
              "size": 10,
              "solidity": 0.2
             }
            },
            "type": "histogram"
           }
          ],
          "histogram2d": [
           {
            "colorbar": {
             "outlinewidth": 0,
             "ticks": ""
            },
            "colorscale": [
             [
              0,
              "#0d0887"
             ],
             [
              0.1111111111111111,
              "#46039f"
             ],
             [
              0.2222222222222222,
              "#7201a8"
             ],
             [
              0.3333333333333333,
              "#9c179e"
             ],
             [
              0.4444444444444444,
              "#bd3786"
             ],
             [
              0.5555555555555556,
              "#d8576b"
             ],
             [
              0.6666666666666666,
              "#ed7953"
             ],
             [
              0.7777777777777778,
              "#fb9f3a"
             ],
             [
              0.8888888888888888,
              "#fdca26"
             ],
             [
              1,
              "#f0f921"
             ]
            ],
            "type": "histogram2d"
           }
          ],
          "histogram2dcontour": [
           {
            "colorbar": {
             "outlinewidth": 0,
             "ticks": ""
            },
            "colorscale": [
             [
              0,
              "#0d0887"
             ],
             [
              0.1111111111111111,
              "#46039f"
             ],
             [
              0.2222222222222222,
              "#7201a8"
             ],
             [
              0.3333333333333333,
              "#9c179e"
             ],
             [
              0.4444444444444444,
              "#bd3786"
             ],
             [
              0.5555555555555556,
              "#d8576b"
             ],
             [
              0.6666666666666666,
              "#ed7953"
             ],
             [
              0.7777777777777778,
              "#fb9f3a"
             ],
             [
              0.8888888888888888,
              "#fdca26"
             ],
             [
              1,
              "#f0f921"
             ]
            ],
            "type": "histogram2dcontour"
           }
          ],
          "mesh3d": [
           {
            "colorbar": {
             "outlinewidth": 0,
             "ticks": ""
            },
            "type": "mesh3d"
           }
          ],
          "parcoords": [
           {
            "line": {
             "colorbar": {
              "outlinewidth": 0,
              "ticks": ""
             }
            },
            "type": "parcoords"
           }
          ],
          "pie": [
           {
            "automargin": true,
            "type": "pie"
           }
          ],
          "scatter": [
           {
            "fillpattern": {
             "fillmode": "overlay",
             "size": 10,
             "solidity": 0.2
            },
            "type": "scatter"
           }
          ],
          "scatter3d": [
           {
            "line": {
             "colorbar": {
              "outlinewidth": 0,
              "ticks": ""
             }
            },
            "marker": {
             "colorbar": {
              "outlinewidth": 0,
              "ticks": ""
             }
            },
            "type": "scatter3d"
           }
          ],
          "scattercarpet": [
           {
            "marker": {
             "colorbar": {
              "outlinewidth": 0,
              "ticks": ""
             }
            },
            "type": "scattercarpet"
           }
          ],
          "scattergeo": [
           {
            "marker": {
             "colorbar": {
              "outlinewidth": 0,
              "ticks": ""
             }
            },
            "type": "scattergeo"
           }
          ],
          "scattergl": [
           {
            "marker": {
             "colorbar": {
              "outlinewidth": 0,
              "ticks": ""
             }
            },
            "type": "scattergl"
           }
          ],
          "scattermap": [
           {
            "marker": {
             "colorbar": {
              "outlinewidth": 0,
              "ticks": ""
             }
            },
            "type": "scattermap"
           }
          ],
          "scattermapbox": [
           {
            "marker": {
             "colorbar": {
              "outlinewidth": 0,
              "ticks": ""
             }
            },
            "type": "scattermapbox"
           }
          ],
          "scatterpolar": [
           {
            "marker": {
             "colorbar": {
              "outlinewidth": 0,
              "ticks": ""
             }
            },
            "type": "scatterpolar"
           }
          ],
          "scatterpolargl": [
           {
            "marker": {
             "colorbar": {
              "outlinewidth": 0,
              "ticks": ""
             }
            },
            "type": "scatterpolargl"
           }
          ],
          "scatterternary": [
           {
            "marker": {
             "colorbar": {
              "outlinewidth": 0,
              "ticks": ""
             }
            },
            "type": "scatterternary"
           }
          ],
          "surface": [
           {
            "colorbar": {
             "outlinewidth": 0,
             "ticks": ""
            },
            "colorscale": [
             [
              0,
              "#0d0887"
             ],
             [
              0.1111111111111111,
              "#46039f"
             ],
             [
              0.2222222222222222,
              "#7201a8"
             ],
             [
              0.3333333333333333,
              "#9c179e"
             ],
             [
              0.4444444444444444,
              "#bd3786"
             ],
             [
              0.5555555555555556,
              "#d8576b"
             ],
             [
              0.6666666666666666,
              "#ed7953"
             ],
             [
              0.7777777777777778,
              "#fb9f3a"
             ],
             [
              0.8888888888888888,
              "#fdca26"
             ],
             [
              1,
              "#f0f921"
             ]
            ],
            "type": "surface"
           }
          ],
          "table": [
           {
            "cells": {
             "fill": {
              "color": "#EBF0F8"
             },
             "line": {
              "color": "white"
             }
            },
            "header": {
             "fill": {
              "color": "#C8D4E3"
             },
             "line": {
              "color": "white"
             }
            },
            "type": "table"
           }
          ]
         },
         "layout": {
          "annotationdefaults": {
           "arrowcolor": "#2a3f5f",
           "arrowhead": 0,
           "arrowwidth": 1
          },
          "autotypenumbers": "strict",
          "coloraxis": {
           "colorbar": {
            "outlinewidth": 0,
            "ticks": ""
           }
          },
          "colorscale": {
           "diverging": [
            [
             0,
             "#8e0152"
            ],
            [
             0.1,
             "#c51b7d"
            ],
            [
             0.2,
             "#de77ae"
            ],
            [
             0.3,
             "#f1b6da"
            ],
            [
             0.4,
             "#fde0ef"
            ],
            [
             0.5,
             "#f7f7f7"
            ],
            [
             0.6,
             "#e6f5d0"
            ],
            [
             0.7,
             "#b8e186"
            ],
            [
             0.8,
             "#7fbc41"
            ],
            [
             0.9,
             "#4d9221"
            ],
            [
             1,
             "#276419"
            ]
           ],
           "sequential": [
            [
             0,
             "#0d0887"
            ],
            [
             0.1111111111111111,
             "#46039f"
            ],
            [
             0.2222222222222222,
             "#7201a8"
            ],
            [
             0.3333333333333333,
             "#9c179e"
            ],
            [
             0.4444444444444444,
             "#bd3786"
            ],
            [
             0.5555555555555556,
             "#d8576b"
            ],
            [
             0.6666666666666666,
             "#ed7953"
            ],
            [
             0.7777777777777778,
             "#fb9f3a"
            ],
            [
             0.8888888888888888,
             "#fdca26"
            ],
            [
             1,
             "#f0f921"
            ]
           ],
           "sequentialminus": [
            [
             0,
             "#0d0887"
            ],
            [
             0.1111111111111111,
             "#46039f"
            ],
            [
             0.2222222222222222,
             "#7201a8"
            ],
            [
             0.3333333333333333,
             "#9c179e"
            ],
            [
             0.4444444444444444,
             "#bd3786"
            ],
            [
             0.5555555555555556,
             "#d8576b"
            ],
            [
             0.6666666666666666,
             "#ed7953"
            ],
            [
             0.7777777777777778,
             "#fb9f3a"
            ],
            [
             0.8888888888888888,
             "#fdca26"
            ],
            [
             1,
             "#f0f921"
            ]
           ]
          },
          "colorway": [
           "#636efa",
           "#EF553B",
           "#00cc96",
           "#ab63fa",
           "#FFA15A",
           "#19d3f3",
           "#FF6692",
           "#B6E880",
           "#FF97FF",
           "#FECB52"
          ],
          "font": {
           "color": "#2a3f5f"
          },
          "geo": {
           "bgcolor": "white",
           "lakecolor": "white",
           "landcolor": "#E5ECF6",
           "showlakes": true,
           "showland": true,
           "subunitcolor": "white"
          },
          "hoverlabel": {
           "align": "left"
          },
          "hovermode": "closest",
          "mapbox": {
           "style": "light"
          },
          "paper_bgcolor": "white",
          "plot_bgcolor": "#E5ECF6",
          "polar": {
           "angularaxis": {
            "gridcolor": "white",
            "linecolor": "white",
            "ticks": ""
           },
           "bgcolor": "#E5ECF6",
           "radialaxis": {
            "gridcolor": "white",
            "linecolor": "white",
            "ticks": ""
           }
          },
          "scene": {
           "xaxis": {
            "backgroundcolor": "#E5ECF6",
            "gridcolor": "white",
            "gridwidth": 2,
            "linecolor": "white",
            "showbackground": true,
            "ticks": "",
            "zerolinecolor": "white"
           },
           "yaxis": {
            "backgroundcolor": "#E5ECF6",
            "gridcolor": "white",
            "gridwidth": 2,
            "linecolor": "white",
            "showbackground": true,
            "ticks": "",
            "zerolinecolor": "white"
           },
           "zaxis": {
            "backgroundcolor": "#E5ECF6",
            "gridcolor": "white",
            "gridwidth": 2,
            "linecolor": "white",
            "showbackground": true,
            "ticks": "",
            "zerolinecolor": "white"
           }
          },
          "shapedefaults": {
           "line": {
            "color": "#2a3f5f"
           }
          },
          "ternary": {
           "aaxis": {
            "gridcolor": "white",
            "linecolor": "white",
            "ticks": ""
           },
           "baxis": {
            "gridcolor": "white",
            "linecolor": "white",
            "ticks": ""
           },
           "bgcolor": "#E5ECF6",
           "caxis": {
            "gridcolor": "white",
            "linecolor": "white",
            "ticks": ""
           }
          },
          "title": {
           "x": 0.05
          },
          "xaxis": {
           "automargin": true,
           "gridcolor": "white",
           "linecolor": "white",
           "ticks": "",
           "title": {
            "standoff": 15
           },
           "zerolinecolor": "white",
           "zerolinewidth": 2
          },
          "yaxis": {
           "automargin": true,
           "gridcolor": "white",
           "linecolor": "white",
           "ticks": "",
           "title": {
            "standoff": 15
           },
           "zerolinecolor": "white",
           "zerolinewidth": 2
          }
         }
        }
       }
      }
     },
     "metadata": {},
     "output_type": "display_data"
    }
   ],
   "source": [
    "plot_signals([np.real(x), np.imag(x)], fs, name=['real part', 'imag part'])"
   ]
  },
  {
   "cell_type": "markdown",
   "metadata": {
    "id": "WbmSTmpIkU9B"
   },
   "source": [
    "2.1. Define a complex exponential with the same parameters that those from Lab 1 (Ex 3.1) and plot the real part."
   ]
  },
  {
   "cell_type": "code",
   "execution_count": null,
   "metadata": {
    "executionInfo": {
     "elapsed": 14,
     "status": "ok",
     "timestamp": 1702317971656,
     "user": {
      "displayName": "PEDRO RAMONEDA FRANCO",
      "userId": "10653804143244385715"
     },
     "user_tz": -60
    },
    "id": "o3o5lc6WkTId"
   },
   "outputs": [],
   "source": [
    "# Write the code here"
   ]
  },
  {
   "cell_type": "markdown",
   "metadata": {
    "id": "bU3RpE-gxOtj"
   },
   "source": [
    "**3. Harmonic signals**\n",
    "\n",
    "Now, we will work with harmonic signals. Until now, we have been working with simple sinusoids signals but most musical instruments sounds are harmonic. This means that they are formed by a sinusoid of the fundamental frequency plus sinusoids with frequencies multiples of it. For instance, we can define the following signal formed by the fundamental frequency plus the second and the third harmonic (note that each wave has a different phase).\n",
    "\n"
   ]
  },
  {
   "cell_type": "code",
   "execution_count": null,
   "metadata": {
    "colab": {
     "base_uri": "https://localhost:8080/",
     "height": 542
    },
    "executionInfo": {
     "elapsed": 15,
     "status": "ok",
     "timestamp": 1702317971657,
     "user": {
      "displayName": "PEDRO RAMONEDA FRANCO",
      "userId": "10653804143244385715"
     },
     "user_tz": -60
    },
    "id": "eDMUef8nyASj",
    "outputId": "193d2764-c8db-4699-ea06-163398174c35"
   },
   "outputs": [],
   "source": []
  },
  {
   "cell_type": "markdown",
   "metadata": {
    "id": "33AJ43U-yuv6"
   },
   "source": [
    "3.1. Load your reference audio signal and plot some periods (5-10) where the amplitude is stable. For instance see Ex. 2.3 from Lab 1."
   ]
  },
  {
   "cell_type": "code",
   "execution_count": null,
   "metadata": {
    "executionInfo": {
     "elapsed": 13,
     "status": "ok",
     "timestamp": 1702317971657,
     "user": {
      "displayName": "PEDRO RAMONEDA FRANCO",
      "userId": "10653804143244385715"
     },
     "user_tz": -60
    },
    "id": "KRd70D8Ayt26"
   },
   "outputs": [],
   "source": [
    "# Write the code here"
   ]
  },
  {
   "cell_type": "markdown",
   "metadata": {
    "id": "Q9q9DSPkzkKi"
   },
   "source": [
    "3.2. Now, define a harmonic signal, `y` whose fundamental frequency is the defined in Lab 1. Go step by step adding a new harmonic in each step. Plot both signals (the reference and the synthesized) and try to reproduce the shape of the reference signal.\n",
    "\n",
    "**Note 1**: in order to have a similar shape, we need to select the amplitudes and phases carefully. One way to do this is to define the harmonic signal as follows:\n",
    "\n",
    "$$y(t) = \\sum_{k=1}^K A_k\\cos\\left(2\\pi kf_0 t + k \\phi - (k-1)\\pi/2 \\right), $$\n",
    "\n",
    "where $K$ is the number of harmonics, $f_0$ is the fundamental frequency, $A_k$ is the amplitude (weight) of each harmonic and $\\phi$ is the phase of the signal (defined in Lab1 Ex 2.4).\n",
    "\n",
    "**Note 2**:\n",
    "Define the $A_k$ values relative to the fundamental frequency. This means to define $A_1=1$ and the others less than 1. You can use Audacity to plot the spectrum of the fragment selected of the reference audio and measure the relative amplitudes of the harmonics.\n",
    "\n",
    "**Note 3**: Normalize the amplitude of the signal by the same amplitude of the reference. For instance, if the amplitude of the reference signal is 0.33, you can normalize the syntesized signal by first dividing by its maximum and then multiplyng by 0.33:\n",
    "\n",
    "```\n",
    "y = 0.33 * y / np.amax(y)\n",
    "```"
   ]
  },
  {
   "cell_type": "code",
   "execution_count": null,
   "metadata": {
    "executionInfo": {
     "elapsed": 13,
     "status": "ok",
     "timestamp": 1702317971657,
     "user": {
      "displayName": "PEDRO RAMONEDA FRANCO",
      "userId": "10653804143244385715"
     },
     "user_tz": -60
    },
    "id": "-1LHtBuyZ9q6"
   },
   "outputs": [],
   "source": [
    "# Write the code here"
   ]
  },
  {
   "cell_type": "markdown",
   "metadata": {
    "id": "FFOPYFkn3fmh"
   },
   "source": [
    "3.3. Listen to the synthtesis and remark what are the main differences between the reference and synthesis."
   ]
  },
  {
   "cell_type": "code",
   "execution_count": null,
   "metadata": {
    "colab": {
     "base_uri": "https://localhost:8080/",
     "height": 176
    },
    "executionInfo": {
     "elapsed": 13,
     "status": "error",
     "timestamp": 1702317971657,
     "user": {
      "displayName": "PEDRO RAMONEDA FRANCO",
      "userId": "10653804143244385715"
     },
     "user_tz": -60
    },
    "id": "Jztm9rOd3etP",
    "outputId": "97312be1-7d6a-4034-e147-9fcac5de1e7c"
   },
   "outputs": [],
   "source": []
  },
  {
   "cell_type": "markdown",
   "metadata": {
    "id": "2S9SR2Ev3lZn"
   },
   "source": [
    "[Double click to enter your answer]"
   ]
  }
 ],
 "metadata": {
  "colab": {
   "provenance": []
  },
  "kernelspec": {
   "display_name": ".venv",
   "language": "python",
   "name": "python3"
  },
  "language_info": {
   "codemirror_mode": {
    "name": "ipython",
    "version": 3
   },
   "file_extension": ".py",
   "mimetype": "text/x-python",
   "name": "python",
   "nbconvert_exporter": "python",
   "pygments_lexer": "ipython3",
   "version": "3.12.10"
  }
 },
 "nbformat": 4,
 "nbformat_minor": 0
}
